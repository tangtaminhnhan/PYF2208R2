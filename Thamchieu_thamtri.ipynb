{
 "cells": [
  {
   "cell_type": "markdown",
   "id": "370c158b",
   "metadata": {},
   "source": [
    "## Tham chiếu và tham trị"
   ]
  },
  {
   "cell_type": "code",
   "execution_count": 10,
   "id": "96def4b3",
   "metadata": {
    "scrolled": true
   },
   "outputs": [
    {
     "name": "stdout",
     "output_type": "stream",
     "text": [
      "Trước: ['a', 'b', 'c']\n",
      "Sau: ['a', 'b', 'c', 'd']\n",
      "\n",
      "Trước: 100\n",
      "Sau: 100\n"
     ]
    }
   ],
   "source": [
    "def add_list(lst):\n",
    "    lst += 'd'\n",
    "    \n",
    "e =['a','b','c']\n",
    "print(f'Trước: {e}')\n",
    "add_list(e)\n",
    "print(f'Sau: {e}\\n')\n",
    "\n",
    "def add_num (num):\n",
    "    num += 1\n",
    "x = 100\n",
    "print(f'Trước: {x}')\n",
    "add_num(x)\n",
    "print(f'Sau: {x}')\n"
   ]
  },
  {
   "cell_type": "markdown",
   "id": "49717ea1",
   "metadata": {},
   "source": [
    "# Đối tượng có thể thay đổi và đối tượng không thay đổi (Mutable và Immutable Objects)\n",
    "- Đối tượng không thay đổi (Immutable):  int, float, long, complex, string tuple, bool\n",
    "- Đối tượng có thể  thay đổi (Mutable) : list, dict, set, byte array, user-defined classes"
   ]
  },
  {
   "cell_type": "markdown",
   "id": "780d5fee",
   "metadata": {},
   "source": [
    "# Truyền tham chiếu là gì\n",
    "\n",
    "Theo mặc định, Python truyền tham số cho một hàm dưới dạng tham chiếu. Trong kỹ thuật này, vị trí bộ nhớ của biến được gửi đến hàm.\n",
    "\n",
    "Trong trường hợp tham số là một đối tượng kiểu Mutable, hàm có thể thay đổi giá trị ban đầu của biến bằng cách gán một giá trị mới, nhưng định danh của tham số không thay đổi. Chúng ta  gọi đó là truyền tham chiếu."
   ]
  },
  {
   "cell_type": "code",
   "execution_count": 17,
   "id": "a8642194",
   "metadata": {},
   "outputs": [
    {
     "name": "stdout",
     "output_type": "stream",
     "text": [
      "id of e: 1632109505280\n",
      "id of lst: 1632109505280\n",
      "[add_list] e: ['a', 'b', 'c', 'd']\n",
      "e: ['a', 'b', 'c', 'd']\n",
      "<class 'list'>\n"
     ]
    }
   ],
   "source": [
    "def add_list(lst):\n",
    "    lst += 'd'\n",
    "    print('id of lst:',id(lst))\n",
    "    print(f'[add_list] e: {lst}')\n",
    "\n",
    "e =['a','b','c']\n",
    "print('id of e:', id(e))\n",
    "add_list(e)\n",
    "print(f'e: {e}')\n",
    "print(type(e))"
   ]
  },
  {
   "cell_type": "markdown",
   "id": "9f4dc19c",
   "metadata": {},
   "source": [
    "Kết quả cho thấy rằng e  và lst giống nhau. Vì cả hai cùng lưu đến cùng một vị trí bộ nhớ. Đây là kết quả của việc truyền tham chiếu vì nó thay đổi dữ liệu ban đầu.\n",
    "\n"
   ]
  },
  {
   "cell_type": "markdown",
   "id": "15cbcdf7",
   "metadata": {},
   "source": [
    "# Truyền tham trị là gì\n",
    "\n",
    "Trong trường hợp tham số là một đối tượng kiểu Immutable, hàm không thể thay đổi giá trị của tham số. Do đó, Python tạo ra một biến số mới với một định danh mới để nhận giá trị được gán. Kĩ thuật này sẽ không thay đổi giá trị của tham số truyền vào hàm."
   ]
  },
  {
   "cell_type": "code",
   "execution_count": 16,
   "id": "faf8bf5f",
   "metadata": {},
   "outputs": [
    {
     "name": "stdout",
     "output_type": "stream",
     "text": [
      "x =  100\n",
      "id of x: 1634142934480\n",
      "[add_num] num = 100\n",
      "[add_num] id of num = 1634142934480\n",
      "[add_num] num sau khi add = 101\n",
      "[add_num] id of num sau khi add= 1634142934512\n",
      "x =  100\n",
      "id of x:  1634142934480\n",
      "<class 'int'>\n"
     ]
    }
   ],
   "source": [
    "def add_num (num):\n",
    "    print (\"[add_num] num =\", num)\n",
    "    print(\"[add_num] id of num =\", id(num))\n",
    "    num += 1\n",
    "    print(\"[add_num] num sau khi add =\", num)\n",
    "    print(\"[add_num] id of num sau khi add=\", id(num))\n",
    "    \n",
    "x = 100\n",
    "print(\"x = \", x)\n",
    "print(\"id of x:\", id(x))\n",
    "add_num(x)\n",
    "print(\"x = \", x)\n",
    "print(\"id of x: \", id(x))\n",
    "print(type(x))\n"
   ]
  },
  {
   "cell_type": "markdown",
   "id": "f47a78cd",
   "metadata": {},
   "source": [
    "Có sự thay đổi id của giá trị trước và sau khi gán giá trị mới ở bên trong hàm. Tuy nhiên id giá trị ban đầu (ở bên ngoài hàm) vẫn giữ nguyên không thay đổi. \n",
    "\n",
    "Ta có thể thấy khi thay đổi giá trị thì hàm đã tạo ra 1 id mới, lưu giá trị mới ở một địa chỉ mới khác với địa chỉ lưu giá trị ban đầu. "
   ]
  },
  {
   "cell_type": "markdown",
   "id": "37006ef3",
   "metadata": {},
   "source": [
    "# Để kiểm tra một đối tượng có khả năng thay đổi không, ta thử sửa đổi nó xem nó có còn là đối tượng ban đầu hay không.\n",
    "\n",
    "Có 2 cách để kiểm tra:\n",
    "\n",
    "- Sử dụng hàm tích hợp sẵn id(): hàm này trả về nhận dạng duy nhất của một đối tượng. Không có hai đối tượng nào có cùng định danh.\n",
    "- Sử dụng toán tử is và is not: các toán tử này đánh giá xem các đối tượng có cùng định danh hay không.\n"
   ]
  },
  {
   "cell_type": "code",
   "execution_count": 22,
   "id": "19140137",
   "metadata": {},
   "outputs": [
    {
     "name": "stdout",
     "output_type": "stream",
     "text": [
      "True\n",
      "False\n"
     ]
    }
   ],
   "source": [
    "def add_list(lst):\n",
    "    lst += 'd'\n",
    "    print(e is lst)\n",
    "    \n",
    "e =['a','b','c']\n",
    "add_list(e)\n",
    "\n",
    "def add_num (num):\n",
    "    num += 1\n",
    "    print(x is num)\n",
    "    \n",
    "x = 100\n",
    "add_num(x)\n",
    "\n"
   ]
  },
  {
   "cell_type": "code",
   "execution_count": null,
   "id": "19db309b",
   "metadata": {},
   "outputs": [],
   "source": []
  }
 ],
 "metadata": {
  "kernelspec": {
   "display_name": "Python 3 (ipykernel)",
   "language": "python",
   "name": "python3"
  },
  "language_info": {
   "codemirror_mode": {
    "name": "ipython",
    "version": 3
   },
   "file_extension": ".py",
   "mimetype": "text/x-python",
   "name": "python",
   "nbconvert_exporter": "python",
   "pygments_lexer": "ipython3",
   "version": "3.10.5"
  }
 },
 "nbformat": 4,
 "nbformat_minor": 5
}
