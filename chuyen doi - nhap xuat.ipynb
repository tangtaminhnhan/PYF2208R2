{
 "cells": [
  {
   "cell_type": "code",
   "execution_count": 7,
   "id": "56e021fd",
   "metadata": {},
   "outputs": [
    {
     "name": "stdout",
     "output_type": "stream",
     "text": [
      "usd = 1\n",
      "nhap vao ty gia=22\n",
      "vnd = 22000.0 \n"
     ]
    }
   ],
   "source": [
    "usd = float(input(\"usd = \"))\n",
    "tygia = float(input(\"nhap vao ty gia=\"))\n",
    "print(f\"vnd = {usd * tygia * 1000} \")"
   ]
  }
 ],
 "metadata": {
  "kernelspec": {
   "display_name": "Python 3 (ipykernel)",
   "language": "python",
   "name": "python3"
  },
  "language_info": {
   "codemirror_mode": {
    "name": "ipython",
    "version": 3
   },
   "file_extension": ".py",
   "mimetype": "text/x-python",
   "name": "python",
   "nbconvert_exporter": "python",
   "pygments_lexer": "ipython3",
   "version": "3.10.5"
  }
 },
 "nbformat": 4,
 "nbformat_minor": 5
}
