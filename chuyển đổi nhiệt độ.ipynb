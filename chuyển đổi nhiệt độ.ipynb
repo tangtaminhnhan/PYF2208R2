{
 "cells": [
  {
   "cell_type": "code",
   "execution_count": 4,
   "id": "210d1b09",
   "metadata": {},
   "outputs": [
    {
     "name": "stdout",
     "output_type": "stream",
     "text": [
      "nhap vao nhiệt độ c =0\n",
      "f = 32.0\n"
     ]
    }
   ],
   "source": [
    "c = int(input(\"nhap vao nhiệt độ c =\"))\n",
    "print(f\"f = {(9*c/5)+32}\")"
   ]
  }
 ],
 "metadata": {
  "kernelspec": {
   "display_name": "Python 3 (ipykernel)",
   "language": "python",
   "name": "python3"
  },
  "language_info": {
   "codemirror_mode": {
    "name": "ipython",
    "version": 3
   },
   "file_extension": ".py",
   "mimetype": "text/x-python",
   "name": "python",
   "nbconvert_exporter": "python",
   "pygments_lexer": "ipython3",
   "version": "3.10.5"
  }
 },
 "nbformat": 4,
 "nbformat_minor": 5
}
