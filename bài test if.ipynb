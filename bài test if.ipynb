{
 "cells": [
  {
   "cell_type": "markdown",
   "id": "a547eaa1",
   "metadata": {},
   "source": [
    "## nhập vào 1 số nguyên bất kì, ktra có %2 hết ko"
   ]
  },
  {
   "cell_type": "code",
   "execution_count": 2,
   "id": "97430c7a",
   "metadata": {},
   "outputs": [
    {
     "name": "stdout",
     "output_type": "stream",
     "text": [
      "nhap vao 1 so nguyen:5\n",
      "5 khong chia het\n"
     ]
    }
   ],
   "source": [
    "n=int(input(\"nhap vao 1 so nguyen:\"))\n",
    "print(f\"{n} chia het cho 2\" if n%2==0 else f\"{n} khong chia het\")"
   ]
  },
  {
   "cell_type": "markdown",
   "id": "33d0cd6c",
   "metadata": {},
   "source": [
    "## Viết chương trình có khả năng kiểm tra tính chất chẵn lẻ của một số nhập vào. In ra màn hình số nhập vào là số chẵn, số lẽ hay không phải là các trường hợp trên."
   ]
  },
  {
   "cell_type": "code",
   "execution_count": 5,
   "id": "b6880449",
   "metadata": {},
   "outputs": [
    {
     "name": "stdout",
     "output_type": "stream",
     "text": [
      "nhap vao 1 so:5.6\n",
      "5.6 khong phai la so tu nhien\n"
     ]
    }
   ],
   "source": [
    "n=float(input(\"nhap vao 1 so:\"))\n",
    "if n%2==0:\n",
    "    print(f\"{n} la so chan\")\n",
    "elif n%2==1:\n",
    "    print(f\"{n} la so le\")\n",
    "else :\n",
    "    print(f\"{n} khong phai la so tu nhien\")"
   ]
  },
  {
   "cell_type": "code",
   "execution_count": null,
   "id": "01e02e68",
   "metadata": {},
   "outputs": [],
   "source": []
  },
  {
   "cell_type": "code",
   "execution_count": null,
   "id": "ad3f0d30",
   "metadata": {},
   "outputs": [],
   "source": []
  }
 ],
 "metadata": {
  "kernelspec": {
   "display_name": "Python 3 (ipykernel)",
   "language": "python",
   "name": "python3"
  },
  "language_info": {
   "codemirror_mode": {
    "name": "ipython",
    "version": 3
   },
   "file_extension": ".py",
   "mimetype": "text/x-python",
   "name": "python",
   "nbconvert_exporter": "python",
   "pygments_lexer": "ipython3",
   "version": "3.10.5"
  }
 },
 "nbformat": 4,
 "nbformat_minor": 5
}
