{
 "cells": [
  {
   "cell_type": "code",
   "execution_count": 7,
   "id": "da82e8d8",
   "metadata": {},
   "outputs": [],
   "source": [
    "from tkinter import *\n",
    "\n",
    "login = Tk()\n",
    "login.geometry(\"300x300\")\n",
    "login.title(\"Login\")\n",
    "label1 = Label(login, text = \"Account :\").place(x = 30, y = 50)\n",
    "label2 = Label(login, text = \"Email:\").place(x = 30, y = 90)\n",
    "label3 = Label(login, text = \"Pass:\").place(x = 30, y = 150)\n",
    "entry1 = Entry(login).place(x = 90, y = 50)\n",
    "entry2 = Entry(login).place(x = 90, y = 90)\n",
    "entry3 = Entry(login).place(x = 90, y = 150)\n",
    "login.mainloop()"
   ]
  },
  {
   "cell_type": "code",
   "execution_count": 10,
   "id": "47354cca",
   "metadata": {},
   "outputs": [
    {
     "ename": "TypeError",
     "evalue": "Place.place_configure() takes from 1 to 2 positional arguments but 3 were given",
     "output_type": "error",
     "traceback": [
      "\u001b[1;31m---------------------------------------------------------------------------\u001b[0m",
      "\u001b[1;31mTypeError\u001b[0m                                 Traceback (most recent call last)",
      "Cell \u001b[1;32mIn [10], line 6\u001b[0m\n\u001b[0;32m      4\u001b[0m room\u001b[38;5;241m.\u001b[39mtitle(\u001b[38;5;124m\"\u001b[39m\u001b[38;5;124mopen\u001b[39m\u001b[38;5;124m\"\u001b[39m)\n\u001b[0;32m      5\u001b[0m label1 \u001b[38;5;241m=\u001b[39mLabel(room, text \u001b[38;5;241m=\u001b[39m \u001b[38;5;124m\"\u001b[39m\u001b[38;5;124mnhap vao thu j do\u001b[39m\u001b[38;5;124m\"\u001b[39m)\u001b[38;5;241m.\u001b[39mplace(x \u001b[38;5;241m=\u001b[39m \u001b[38;5;241m50\u001b[39m,y \u001b[38;5;241m=\u001b[39m\u001b[38;5;241m50\u001b[39m)\n\u001b[1;32m----> 6\u001b[0m entry1 \u001b[38;5;241m=\u001b[39m \u001b[43mEntry\u001b[49m\u001b[43m(\u001b[49m\u001b[43mroom\u001b[49m\u001b[43m)\u001b[49m\u001b[38;5;241;43m.\u001b[39;49m\u001b[43mplace\u001b[49m\u001b[43m(\u001b[49m\u001b[38;5;241;43m100\u001b[39;49m\u001b[43m,\u001b[49m\u001b[43m \u001b[49m\u001b[38;5;241;43m50\u001b[39;49m\u001b[43m)\u001b[49m\n\u001b[0;32m      7\u001b[0m room\u001b[38;5;241m.\u001b[39mmainloop()\n",
      "\u001b[1;31mTypeError\u001b[0m: Place.place_configure() takes from 1 to 2 positional arguments but 3 were given"
     ]
    }
   ],
   "source": [
    "from tkinter import*\n",
    "room = Tk()\n",
    "room.geometry(\"300x300\")\n",
    "room.title(\"open\")\n",
    "label1 =Label(room, text = \"nhap vao thu j do\").place(x = 50,y =50)\n",
    "entry1 = Entry(room).place(100, 50)\n",
    "room.mainloop()"
   ]
  },
  {
   "cell_type": "code",
   "execution_count": 13,
   "id": "d2d84475",
   "metadata": {},
   "outputs": [
    {
     "name": "stdout",
     "output_type": "stream",
     "text": [
      "nhap vao a\n",
      "nhap vao bd\n",
      "loai du lieu cua a la: <class 'str'>\n",
      "loai du lieu cua b la: <class 'str'>\n",
      "nhap sai\n"
     ]
    }
   ],
   "source": [
    "a = input(\"nhap vao a\")\n",
    "b = input(\"nhap vao b\")\n",
    "print(\"loai du lieu cua a la:\", type(a))\n",
    "print(\"loai du lieu cua b la:\", type(b))\n",
    "try:\n",
    "    count_1 = int(a)\n",
    "    count_2 = int(b)\n",
    "    print(f\"tong la {count_1+count_2}\")\n",
    "    print(f\"hieu la {count_1-count_2}\")\n",
    "    print(f\"tich la {count_1*count_2}\")\n",
    "    print(f\"thuong la {count_1/count_2}\")\n",
    "except:\n",
    "    print(\"nhap sai\")"
   ]
  },
  {
   "cell_type": "code",
   "execution_count": null,
   "id": "0e9833b2",
   "metadata": {},
   "outputs": [],
   "source": [
    "a =float(input(\"a =\"))\n",
    "b = float(iput(\"b = \"))\n",
    "print(f\" dien tich = {a*b},chu vi = {(a+b)*2}\")\n"
   ]
  },
  {
   "cell_type": "code",
   "execution_count": 16,
   "id": "f4b8e4dc",
   "metadata": {},
   "outputs": [
    {
     "name": "stdout",
     "output_type": "stream",
     "text": [
      "a =3\n",
      "b =4\n",
      "c =5\n",
      "chu vi la 12.0, dien tich la 36.0\n"
     ]
    }
   ],
   "source": [
    "a = float(input(\"a =\"))\n",
    "b = float(input(\"b =\"))\n",
    "c = float(input(\"c =\"))\n",
    "p = (a+b+c)/2\n",
    "print(f\"chu vi la {p*2}, dien tich la {(p*(p-a)*(p-b)*(p-c))**0.5}\")"
   ]
  },
  {
   "cell_type": "code",
   "execution_count": 17,
   "id": "a47e19e4",
   "metadata": {},
   "outputs": [
    {
     "name": "stdout",
     "output_type": "stream",
     "text": [
      "a = 2\n",
      "b = 5\n",
      " x = -2.5  \n"
     ]
    }
   ],
   "source": [
    "a = float(input(\"a = \"))\n",
    "b = float(input(\"b = \"))\n",
    "print(f\"x = {-b/a}  \")"
   ]
  },
  {
   "cell_type": "code",
   "execution_count": 5,
   "id": "d1c09682",
   "metadata": {},
   "outputs": [
    {
     "name": "stdout",
     "output_type": "stream",
     "text": [
      "a = 2\n",
      "b = 6\n",
      "c = 4\n",
      "x_1 = -1.0, x_2 = -2.0\n"
     ]
    }
   ],
   "source": [
    "a = float(input(\"a = \"))\n",
    "b = float(input(\"b = \"))\n",
    "c = float(input(\"c = \"))\n",
    "delta = b**2 - 4*a*c\n",
    "if delta > 0:\n",
    "    print(f\"x_1 = {(-b + delta**0.5)/(2*a)}, x_2 = {(-b - delta**0.5)/(2*a)}\")\n",
    "elif delta == 0:\n",
    "    print(f\" x_1 = x_2 = {-b/(2*a)}\")\n",
    "else:\n",
    "    print(\"vo nghiem\")"
   ]
  },
  {
   "cell_type": "code",
   "execution_count": 1,
   "id": "942fd09e",
   "metadata": {},
   "outputs": [
    {
     "name": "stdout",
     "output_type": "stream",
     "text": [
      "2\n",
      "2"
     ]
    }
   ],
   "source": [
    "n=int(input())\n",
    "def dao_nguoc(n):\n",
    "    count = 0\n",
    "    while n != 0:\n",
    "        count = n % 10\n",
    "        n //= 10\n",
    "        print(count,end=\"\")\n",
    "dao_nguoc(n)"
   ]
  },
  {
   "cell_type": "code",
   "execution_count": 19,
   "id": "cf473970",
   "metadata": {},
   "outputs": [
    {
     "name": "stdout",
     "output_type": "stream",
     "text": [
      "nhap vao1234\n",
      "4321"
     ]
    }
   ],
   "source": [
    "n=int(input(\"nhap vao\"))\n",
    "def hoanvithanki(n):\n",
    "    count = 0\n",
    "    while n !=0:\n",
    "        count = n%10\n",
    "        print(count,end=\"\")\n",
    "        n //= 10\n",
    "hoanvithanki(n)      "
   ]
  },
  {
   "cell_type": "code",
   "execution_count": 23,
   "id": "85bb8571",
   "metadata": {},
   "outputs": [
    {
     "name": "stdout",
     "output_type": "stream",
     "text": [
      "so nguyen n:5\n",
      "so nguyen a:7\n",
      "78125\n"
     ]
    }
   ],
   "source": [
    "nhap_1=input(\"so nguyen n:\")\n",
    "nhap_2 = input(\"so nguyen a:\")\n",
    "try :\n",
    "    n = int(nhap_1)\n",
    "    a = int(nhap_2)\n",
    "    s = 1\n",
    "    for i in range(a):\n",
    "        s *= n\n",
    "    print(s)\n",
    "except :\n",
    "    print(\"nhap vao so sai\")"
   ]
  },
  {
   "cell_type": "code",
   "execution_count": 24,
   "id": "03e41a77",
   "metadata": {},
   "outputs": [
    {
     "name": "stdout",
     "output_type": "stream",
     "text": [
      "10\n",
      "100\n",
      "20\n",
      "80\n"
     ]
    }
   ],
   "source": [
    "n = int(input())\n",
    "V = int(input())\n",
    "v = int(input())\n",
    "s = 0\n",
    "while n >0:\n",
    "    if n*v < V:\n",
    "        if s < n*v:\n",
    "            s = n*v\n",
    "    n -=1\n",
    "print(s)"
   ]
  },
  {
   "cell_type": "code",
   "execution_count": null,
   "id": "22ca3c42",
   "metadata": {},
   "outputs": [],
   "source": []
  },
  {
   "cell_type": "code",
   "execution_count": 20,
   "id": "b23a28e2",
   "metadata": {},
   "outputs": [
    {
     "name": "stdout",
     "output_type": "stream",
     "text": [
      "Kiểu dữ liệu =  <class 'tuple'>\n",
      "Kiểu dữ liệu =  <class 'str'>\n"
     ]
    }
   ],
   "source": [
    "# Khai báo tuple với 1 phần tử\n",
    "languages = (\"Python\",)\n",
    "print(\"Kiểu dữ liệu = \", type(languages))\n",
    "\n",
    "# Trong trường hợp này languages là\n",
    "# 1 string\n",
    "languages = (\"Python\")\n",
    "print(\"Kiểu dữ liệu = \", type(languages))"
   ]
  },
  {
   "cell_type": "code",
   "execution_count": 6,
   "id": "2da67801",
   "metadata": {},
   "outputs": [
    {
     "name": "stdout",
     "output_type": "stream",
     "text": [
      "nhap vao so :8\n",
      "{1: 1, 2: 4, 3: 9, 4: 16, 5: 25, 6: 36, 7: 49, 8: 64}\n"
     ]
    }
   ],
   "source": [
    "#Ví dụ: Giả sử số n là 8 thì đầu ra sẽ là: {1: 1, 2: 4, 3: 9, 4: 16, 5: 25, 6: 36, 7: 49, 8: 64}.\n",
    "n=int(input(\"nhap vao so :\"))\n",
    "d=dict()\n",
    "for i in range(1,n+1):\n",
    "    d[i]=i*i\n",
    "print(d)"
   ]
  },
  {
   "cell_type": "code",
   "execution_count": 11,
   "id": "7cd1c824",
   "metadata": {},
   "outputs": [
    {
     "name": "stdout",
     "output_type": "stream",
     "text": [
      "Nhập vào các giá trị:12,13,14\n",
      "('12', '13', '14')\n",
      "['12', '13', '14']\n"
     ]
    }
   ],
   "source": [
    "values=input(\"Nhập vào các giá trị:\")\n",
    "l=values.split(\",\")\n",
    "print(tuple(l))\n",
    "print(l)"
   ]
  },
  {
   "cell_type": "code",
   "execution_count": 13,
   "id": "bbaef6ad",
   "metadata": {},
   "outputs": [
    {
     "name": "stdout",
     "output_type": "stream",
     "text": [
      "3\n",
      "4\n",
      "tong hai so la:  7\n"
     ]
    }
   ],
   "source": [
    "giatri1 = input() #Nhap gia tri thu nhat\n",
    "giatri2 = input() #Nhap gia tri thu hai\n",
    "\n",
    "try: #Khoi lenh co the phat sinh loi\n",
    "   so1 = int(giatri1) #Ep kieu giatri1 sang so nguyen\n",
    "   so2 = int(giatri2) #Ep kieu giatri2 sang so nguyen\n",
    "   tong = so1 + so2 #Tinh tong hai so\n",
    "   print(\"tong hai so la: \", tong) #In tong hai so\n",
    "except: #Khoi lenh duoc thuc thi khi loi xay ra\n",
    "   print(\"dinh dang dau vao khong hop le!\") #In thong bao"
   ]
  },
  {
   "cell_type": "code",
   "execution_count": 15,
   "id": "e28d895d",
   "metadata": {},
   "outputs": [
    {
     "name": "stdout",
     "output_type": "stream",
     "text": [
      "r\n",
      "4\n",
      "dinh dang dau ra khong hop le\n"
     ]
    }
   ],
   "source": [
    "giatri1 = input() #Nhap gia tri thu nhat\n",
    "giatri2 = input()\n",
    "try:\n",
    "    so1=int(giatri1)\n",
    "    so2=int(giatri2)\n",
    "    print(so1+so2)\n",
    "except:\n",
    "    print(\"dinh dang dau ra khong hop le\")"
   ]
  },
  {
   "cell_type": "code",
   "execution_count": 19,
   "id": "7ff4b9cf",
   "metadata": {},
   "outputs": [
    {
     "name": "stdout",
     "output_type": "stream",
     "text": [
      "nhap:25\n",
      "4\n"
     ]
    }
   ],
   "source": [
    "ncount=input(\"nhap:\")\n",
    "try:\n",
    "    n=int(ncount)\n",
    "    count=0\n",
    "    while True:\n",
    "        if n%8!=0:\n",
    "            count=count+n%8\n",
    "            n=n//8\n",
    "        else:\n",
    "            print(count)\n",
    "            break\n",
    "except:\n",
    "    print(\"ko hop le\")"
   ]
  },
  {
   "cell_type": "code",
   "execution_count": 26,
   "id": "9f814c4f",
   "metadata": {},
   "outputs": [],
   "source": [
    "import turtle\n",
    "pen=turtle.Turtle()\n",
    "pen.circle(100,360,4)\n",
    "turtle.done()"
   ]
  },
  {
   "cell_type": "code",
   "execution_count": 1,
   "id": "d7ebe3cb",
   "metadata": {},
   "outputs": [
    {
     "name": "stdout",
     "output_type": "stream",
     "text": [
      "List trước khi thêm phần tử =  ['PHP', 'Python', 'C#', 'Java', 'Android']\n",
      "List sau khi thêm phần tử =  ['PHP', 'Python', 'C#', 'Java', 'Android', 'C++']\n",
      "List sau khi thêm phần tử =  ['PHP', 'Swift', 'Python', 'C#', 'Java', 'Android', 'C++']\n"
     ]
    }
   ],
   "source": [
    "languages = [\"PHP\", \"Python\", \"C#\", \"Java\", \"Android\"]\n",
    "\n",
    "print(\"List trước khi thêm phần tử = \", languages)\n",
    "\n",
    "# Dùng phương thức append để thêm vào cuối list\n",
    "languages.append(\"C++\")\n",
    "print(\"List sau khi thêm phần tử = \", languages)\n",
    "\n",
    "# Dùng phương thức insert để thêm vào một vị trí bất kỳ trong list\n",
    "languages.insert(1, \"Swift\")\n",
    "print(\"List sau khi thêm phần tử = \", languages)"
   ]
  },
  {
   "cell_type": "code",
   "execution_count": 2,
   "id": "b0ab1b09",
   "metadata": {},
   "outputs": [
    {
     "name": "stdout",
     "output_type": "stream",
     "text": [
      "List trước khi thêm phần tử =  ['PHP', 'Python', 'C#', 'Java', 'Android']\n",
      "List sau khi mở rộng bằng extend() =  ['PHP', 'Python', 'C#', 'Java', 'Android', 'Swift', 'C++']\n",
      "List sau khi mở rộng bằng toán tử + =  ['PHP', 'Python', 'C#', 'Java', 'Android', 'Swift', 'C++']\n"
     ]
    }
   ],
   "source": [
    "languages = [\"PHP\", \"Python\", \"C#\", \"Java\", \"Android\"]\n",
    "\n",
    "print(\"List trước khi thêm phần tử = \", languages)\n",
    "\n",
    "languages_extend = [\"Swift\", \"C++\"]\n",
    "\n",
    "# Nối hai list bằng extend()\n",
    "languages.extend(languages_extend)\n",
    "print(\"List sau khi mở rộng bằng extend() = \", languages)\n",
    "\n",
    "languages = [\"PHP\", \"Python\", \"C#\", \"Java\", \"Android\"]\n",
    "# Nối hai list bằng toán tử +\n",
    "languages_joint = languages + languages_extend\n",
    "print(\"List sau khi mở rộng bằng toán tử + = \", languages_joint)\n"
   ]
  },
  {
   "cell_type": "code",
   "execution_count": 15,
   "id": "8d625eb2",
   "metadata": {},
   "outputs": [
    {
     "data": {
      "text/plain": [
       "62831.853071795864"
      ]
     },
     "execution_count": 15,
     "metadata": {},
     "output_type": "execute_result"
    }
   ],
   "source": [
    "import turtle\n",
    "import math\n",
    "class draw:\n",
    "    def __init__(self, x, y, bankinh):\n",
    "        self.x = x\n",
    "        self.y = y\n",
    "        self.r = bankinh\n",
    "    def draw_circle(self):\n",
    "        pen = turtle.Turtle()\n",
    "        pen.penup()\n",
    "        pen.goto(self.x, self.y)\n",
    "        pen.pendown()\n",
    "        pen.circle(self.r)\n",
    "        turtle.done()\n",
    "    def dientich(self):\n",
    "        return 2*math.pi*(self.r)**2\n",
    "    def chuvi(self):\n",
    "        return math.pi * self.r * 2\n",
    "count_1 = draw(100, 100, 100)\n",
    "count_1.draw_circle()\n",
    "count_1.dientich()"
   ]
  },
  {
   "cell_type": "code",
   "execution_count": 20,
   "id": "ce0e7161",
   "metadata": {},
   "outputs": [
    {
     "name": "stdout",
     "output_type": "stream",
     "text": [
      "Con cua\n",
      "nhap vao tieng anh:crab\n"
     ]
    },
    {
     "data": {
      "text/plain": [
       "True"
      ]
     },
     "execution_count": 20,
     "metadata": {},
     "output_type": "execute_result"
    }
   ],
   "source": [
    "import random\n",
    "class flashcash:\n",
    "    def __init__(self):\n",
    "        self.dic = {'Con ong': 'bee',\n",
    "                        'Con thỏ': 'rabbit',\n",
    "                        'Con cua': 'crab',\n",
    "                        'Con mèo': 'cat',\n",
    "                        'Con ngựa': 'horse',\n",
    "                        'Con khỉ': 'monkey',\n",
    "                        'Con lừa': 'donkey'}\n",
    "    def test(self):\n",
    "        dict_test = []\n",
    "        for keys in self.dic:\n",
    "            dict_test.append(keys)\n",
    "        count = random.randint(0,len(dict_test) - 1 )\n",
    "        print(dict_test[count])\n",
    "        english = input(\"nhap vao tieng anh:\")\n",
    "        if english == self.dic[dict_test[count]]:\n",
    "            return True\n",
    "        else:\n",
    "            return False\n",
    "check = flashcash()\n",
    "check.test()"
   ]
  },
  {
   "cell_type": "code",
   "execution_count": 14,
   "id": "4c78432e",
   "metadata": {},
   "outputs": [
    {
     "ename": "Terminator",
     "evalue": "",
     "output_type": "error",
     "traceback": [
      "\u001b[1;31m---------------------------------------------------------------------------\u001b[0m",
      "\u001b[1;31mTerminator\u001b[0m                                Traceback (most recent call last)",
      "Cell \u001b[1;32mIn [14], line 39\u001b[0m\n\u001b[0;32m     37\u001b[0m         turtle\u001b[38;5;241m.\u001b[39mdone()\n\u001b[0;32m     38\u001b[0m a \u001b[38;5;241m=\u001b[39m clock(\u001b[38;5;241m3\u001b[39m,\u001b[38;5;241m4\u001b[39m,\u001b[38;5;241m5\u001b[39m)\n\u001b[1;32m---> 39\u001b[0m \u001b[43ma\u001b[49m\u001b[38;5;241;43m.\u001b[39;49m\u001b[43mdraw_clock\u001b[49m\u001b[43m(\u001b[49m\u001b[43m)\u001b[49m\n",
      "Cell \u001b[1;32mIn [14], line 31\u001b[0m, in \u001b[0;36mclock.draw_clock\u001b[1;34m(self)\u001b[0m\n\u001b[0;32m     29\u001b[0m     pen\u001b[38;5;241m.\u001b[39mpenup()\n\u001b[0;32m     30\u001b[0m \u001b[38;5;28;01melse\u001b[39;00m:\n\u001b[1;32m---> 31\u001b[0m     \u001b[43mdraw\u001b[49m\u001b[43m(\u001b[49m\u001b[38;5;241;43m10\u001b[39;49m\u001b[43m \u001b[49m\u001b[43m,\u001b[49m\u001b[43mcount\u001b[49m\u001b[43m)\u001b[49m\n\u001b[0;32m     32\u001b[0m     pen\u001b[38;5;241m.\u001b[39mpenup()\n\u001b[0;32m     34\u001b[0m pen\u001b[38;5;241m.\u001b[39mpenup()\n",
      "Cell \u001b[1;32mIn [14], line 7\u001b[0m, in \u001b[0;36mdraw\u001b[1;34m(x, count)\u001b[0m\n\u001b[0;32m      5\u001b[0m pen\u001b[38;5;241m.\u001b[39mspeed(\u001b[38;5;241m10\u001b[39m)\n\u001b[0;32m      6\u001b[0m pen\u001b[38;5;241m.\u001b[39mrt(count)\n\u001b[1;32m----> 7\u001b[0m \u001b[43mpen\u001b[49m\u001b[38;5;241;43m.\u001b[39;49m\u001b[43mfd\u001b[49m\u001b[43m(\u001b[49m\u001b[38;5;241;43m190\u001b[39;49m\u001b[43m)\u001b[49m\n\u001b[0;32m      8\u001b[0m pen\u001b[38;5;241m.\u001b[39mpendown()\n\u001b[0;32m      9\u001b[0m pen\u001b[38;5;241m.\u001b[39mbk(x)\n",
      "File \u001b[1;32m~\\AppData\\Local\\Programs\\Python\\Python310\\lib\\turtle.py:1638\u001b[0m, in \u001b[0;36mTNavigator.forward\u001b[1;34m(self, distance)\u001b[0m\n\u001b[0;32m   1617\u001b[0m \u001b[38;5;28;01mdef\u001b[39;00m \u001b[38;5;21mforward\u001b[39m(\u001b[38;5;28mself\u001b[39m, distance):\n\u001b[0;32m   1618\u001b[0m     \u001b[38;5;124;03m\"\"\"Move the turtle forward by the specified distance.\u001b[39;00m\n\u001b[0;32m   1619\u001b[0m \n\u001b[0;32m   1620\u001b[0m \u001b[38;5;124;03m    Aliases: forward | fd\u001b[39;00m\n\u001b[1;32m   (...)\u001b[0m\n\u001b[0;32m   1636\u001b[0m \u001b[38;5;124;03m    (-50.00,0.00)\u001b[39;00m\n\u001b[0;32m   1637\u001b[0m \u001b[38;5;124;03m    \"\"\"\u001b[39;00m\n\u001b[1;32m-> 1638\u001b[0m     \u001b[38;5;28;43mself\u001b[39;49m\u001b[38;5;241;43m.\u001b[39;49m\u001b[43m_go\u001b[49m\u001b[43m(\u001b[49m\u001b[43mdistance\u001b[49m\u001b[43m)\u001b[49m\n",
      "File \u001b[1;32m~\\AppData\\Local\\Programs\\Python\\Python310\\lib\\turtle.py:1606\u001b[0m, in \u001b[0;36mTNavigator._go\u001b[1;34m(self, distance)\u001b[0m\n\u001b[0;32m   1604\u001b[0m \u001b[38;5;124;03m\"\"\"move turtle forward by specified distance\"\"\"\u001b[39;00m\n\u001b[0;32m   1605\u001b[0m ende \u001b[38;5;241m=\u001b[39m \u001b[38;5;28mself\u001b[39m\u001b[38;5;241m.\u001b[39m_position \u001b[38;5;241m+\u001b[39m \u001b[38;5;28mself\u001b[39m\u001b[38;5;241m.\u001b[39m_orient \u001b[38;5;241m*\u001b[39m distance\n\u001b[1;32m-> 1606\u001b[0m \u001b[38;5;28;43mself\u001b[39;49m\u001b[38;5;241;43m.\u001b[39;49m\u001b[43m_goto\u001b[49m\u001b[43m(\u001b[49m\u001b[43mende\u001b[49m\u001b[43m)\u001b[49m\n",
      "File \u001b[1;32m~\\AppData\\Local\\Programs\\Python\\Python310\\lib\\turtle.py:3181\u001b[0m, in \u001b[0;36mRawTurtle._goto\u001b[1;34m(self, end)\u001b[0m\n\u001b[0;32m   3177\u001b[0m     \u001b[38;5;28;01mif\u001b[39;00m \u001b[38;5;28mself\u001b[39m\u001b[38;5;241m.\u001b[39m_drawing:\n\u001b[0;32m   3178\u001b[0m         screen\u001b[38;5;241m.\u001b[39m_drawline(\u001b[38;5;28mself\u001b[39m\u001b[38;5;241m.\u001b[39mdrawingLineItem,\n\u001b[0;32m   3179\u001b[0m                          (start, \u001b[38;5;28mself\u001b[39m\u001b[38;5;241m.\u001b[39m_position),\n\u001b[0;32m   3180\u001b[0m                          \u001b[38;5;28mself\u001b[39m\u001b[38;5;241m.\u001b[39m_pencolor, \u001b[38;5;28mself\u001b[39m\u001b[38;5;241m.\u001b[39m_pensize, top)\n\u001b[1;32m-> 3181\u001b[0m     \u001b[38;5;28;43mself\u001b[39;49m\u001b[38;5;241;43m.\u001b[39;49m\u001b[43m_update\u001b[49m\u001b[43m(\u001b[49m\u001b[43m)\u001b[49m\n\u001b[0;32m   3182\u001b[0m \u001b[38;5;28;01mif\u001b[39;00m \u001b[38;5;28mself\u001b[39m\u001b[38;5;241m.\u001b[39m_drawing:\n\u001b[0;32m   3183\u001b[0m     screen\u001b[38;5;241m.\u001b[39m_drawline(\u001b[38;5;28mself\u001b[39m\u001b[38;5;241m.\u001b[39mdrawingLineItem, ((\u001b[38;5;241m0\u001b[39m, \u001b[38;5;241m0\u001b[39m), (\u001b[38;5;241m0\u001b[39m, \u001b[38;5;241m0\u001b[39m)),\n\u001b[0;32m   3184\u001b[0m                                    fill\u001b[38;5;241m=\u001b[39m\u001b[38;5;124m\"\u001b[39m\u001b[38;5;124m\"\u001b[39m, width\u001b[38;5;241m=\u001b[39m\u001b[38;5;28mself\u001b[39m\u001b[38;5;241m.\u001b[39m_pensize)\n",
      "File \u001b[1;32m~\\AppData\\Local\\Programs\\Python\\Python310\\lib\\turtle.py:2661\u001b[0m, in \u001b[0;36mRawTurtle._update\u001b[1;34m(self)\u001b[0m\n\u001b[0;32m   2659\u001b[0m     \u001b[38;5;28;01mreturn\u001b[39;00m\n\u001b[0;32m   2660\u001b[0m \u001b[38;5;28;01melif\u001b[39;00m screen\u001b[38;5;241m.\u001b[39m_tracing \u001b[38;5;241m==\u001b[39m \u001b[38;5;241m1\u001b[39m:\n\u001b[1;32m-> 2661\u001b[0m     \u001b[38;5;28;43mself\u001b[39;49m\u001b[38;5;241;43m.\u001b[39;49m\u001b[43m_update_data\u001b[49m\u001b[43m(\u001b[49m\u001b[43m)\u001b[49m\n\u001b[0;32m   2662\u001b[0m     \u001b[38;5;28mself\u001b[39m\u001b[38;5;241m.\u001b[39m_drawturtle()\n\u001b[0;32m   2663\u001b[0m     screen\u001b[38;5;241m.\u001b[39m_update()                  \u001b[38;5;66;03m# TurtleScreenBase\u001b[39;00m\n",
      "File \u001b[1;32m~\\AppData\\Local\\Programs\\Python\\Python310\\lib\\turtle.py:2647\u001b[0m, in \u001b[0;36mRawTurtle._update_data\u001b[1;34m(self)\u001b[0m\n\u001b[0;32m   2646\u001b[0m \u001b[38;5;28;01mdef\u001b[39;00m \u001b[38;5;21m_update_data\u001b[39m(\u001b[38;5;28mself\u001b[39m):\n\u001b[1;32m-> 2647\u001b[0m     \u001b[38;5;28;43mself\u001b[39;49m\u001b[38;5;241;43m.\u001b[39;49m\u001b[43mscreen\u001b[49m\u001b[38;5;241;43m.\u001b[39;49m\u001b[43m_incrementudc\u001b[49m\u001b[43m(\u001b[49m\u001b[43m)\u001b[49m\n\u001b[0;32m   2648\u001b[0m     \u001b[38;5;28;01mif\u001b[39;00m \u001b[38;5;28mself\u001b[39m\u001b[38;5;241m.\u001b[39mscreen\u001b[38;5;241m.\u001b[39m_updatecounter \u001b[38;5;241m!=\u001b[39m \u001b[38;5;241m0\u001b[39m:\n\u001b[0;32m   2649\u001b[0m         \u001b[38;5;28;01mreturn\u001b[39;00m\n",
      "File \u001b[1;32m~\\AppData\\Local\\Programs\\Python\\Python310\\lib\\turtle.py:1293\u001b[0m, in \u001b[0;36mTurtleScreen._incrementudc\u001b[1;34m(self)\u001b[0m\n\u001b[0;32m   1291\u001b[0m \u001b[38;5;28;01mif\u001b[39;00m \u001b[38;5;129;01mnot\u001b[39;00m TurtleScreen\u001b[38;5;241m.\u001b[39m_RUNNING:\n\u001b[0;32m   1292\u001b[0m     TurtleScreen\u001b[38;5;241m.\u001b[39m_RUNNING \u001b[38;5;241m=\u001b[39m \u001b[38;5;28;01mTrue\u001b[39;00m\n\u001b[1;32m-> 1293\u001b[0m     \u001b[38;5;28;01mraise\u001b[39;00m Terminator\n\u001b[0;32m   1294\u001b[0m \u001b[38;5;28;01mif\u001b[39;00m \u001b[38;5;28mself\u001b[39m\u001b[38;5;241m.\u001b[39m_tracing \u001b[38;5;241m>\u001b[39m \u001b[38;5;241m0\u001b[39m:\n\u001b[0;32m   1295\u001b[0m     \u001b[38;5;28mself\u001b[39m\u001b[38;5;241m.\u001b[39m_updatecounter \u001b[38;5;241m+\u001b[39m\u001b[38;5;241m=\u001b[39m \u001b[38;5;241m1\u001b[39m\n",
      "\u001b[1;31mTerminator\u001b[0m: "
     ]
    }
   ],
   "source": [
    "import turtle\n",
    "def draw(x,count):\n",
    "    pen = turtle.Turtle()\n",
    "    pen.penup()\n",
    "    pen.speed(20)\n",
    "    pen.rt(count)\n",
    "    pen.fd(190)\n",
    "    pen.pendown()\n",
    "    pen.bk(x)\n",
    "    pen.penup()\n",
    "class clock:\n",
    "    def __init__(self, hours, minute, second):\n",
    "        self.hours = hours\n",
    "        self.minute = minute\n",
    "        self.second = second\n",
    "    def draw_clock(self):\n",
    "        pen = turtle.Turtle()\n",
    "        pen.speed(10)\n",
    "        pen.penup()\n",
    "        pen.goto(0,-200)\n",
    "        pen.pendown()\n",
    "        pen.circle(200)\n",
    "        pen.penup()\n",
    "        pen.home()\n",
    "        count = 0\n",
    "        while count <=360:\n",
    "            if count%30 ==0:\n",
    "                draw(40,count)\n",
    "                pen.penup()\n",
    "            else:\n",
    "                draw(10 ,count)\n",
    "                pen.penup()\n",
    "\n",
    "            pen.penup()\n",
    "            pen.home()\n",
    "            count +=6\n",
    "        turtle.done()\n",
    "a = clock(3,4,5)\n",
    "a.draw_clock()"
   ]
  },
  {
   "cell_type": "code",
   "execution_count": 11,
   "id": "8ca8760f",
   "metadata": {},
   "outputs": [],
   "source": [
    "import turtle\n",
    "pen=turtle.Turtle()\n",
    "pen.speed(10)\n",
    "pen.penup()\n",
    "pen.goto(0,-200)\n",
    "pen.pendown()\n",
    "pen.circle(200)\n",
    "pen.penup()\n",
    "pen.home()\n",
    "pen.goto(150,0)\n",
    "pen.pendown()\n",
    "pen.fd(40)\n",
    "pen.penup()\n",
    "pen.home()\n",
    "pen.rt(5)\n",
    "pen.fd(190)\n",
    "pen.pendown()\n",
    "pen.bk(20)\n",
    "pen.home()\n",
    "pen.rt(5)\n",
    "pen.fd(190)\n",
    "turtle.done()"
   ]
  },
  {
   "cell_type": "code",
   "execution_count": 2,
   "id": "0b1f93a3",
   "metadata": {},
   "outputs": [],
   "source": [
    "import turtle\n",
    "class clock:\n",
    "    def __init__(self, hours, minute, second):\n",
    "        self.hours = hours\n",
    "        self.minute = minute\n",
    "        self.second = second\n",
    "    def draw_clock(self):\n",
    "        pen = turtle.Turtle()\n",
    "        pen.speed(100)\n",
    "        pen.pensize(2)\n",
    "        pen.penup()\n",
    "        pen.goto(0,-200)\n",
    "        pen.pendown()\n",
    "        pen.circle(200)\n",
    "        pen.penup()\n",
    "        pen.home()\n",
    "        count = 0\n",
    "        while count <=360:\n",
    "            if count%30 ==0:\n",
    "                pen.rt(count)\n",
    "                pen.fd(190)\n",
    "                pen.pendown()\n",
    "                pen.bk(40)\n",
    "            else:\n",
    "                pen.rt(count)\n",
    "                pen.fd(190)\n",
    "                pen.pendown()\n",
    "                pen.bk(10)\n",
    "            pen.penup()\n",
    "            pen.home()\n",
    "            count +=6\n",
    "    def time(self):\n",
    "        pen = turtle.Turtle()\n",
    "        pen.speed(60)\n",
    "        dict = [self.hours, self.minute, self.second]\n",
    "        t = 3\n",
    "        for i in range(1,4):\n",
    "            if i == 1:\n",
    "                pen.rt(270 + 30 * dict[i-1])\n",
    "            else:\n",
    "                pen.rt(270 + 6 * dict[i-1])\n",
    "            pen.pensize(t)\n",
    "            pen.fd(int(i)*30 +20 )\n",
    "            pen.home()\n",
    "            t -=1\n",
    "        turtle.done()\n",
    "        \n",
    "a = clock(3,40,5)\n",
    "a.draw_clock()\n",
    "a.time()"
   ]
  },
  {
   "cell_type": "code",
   "execution_count": 4,
   "id": "5ca8bf74",
   "metadata": {},
   "outputs": [],
   "source": [
    "import turtle\n",
    "pen = turtle.Turtle()\n",
    "pen.pensize(0.1)\n",
    "pen.pencolor(\"silver\")\n",
    "pen.speed(5)\n",
    "for i in range(0,100):\n",
    "    pen.lt(i)\n",
    "    pen.fd(100)\n",
    "    pen.home()\n",
    "    \n",
    "turtle.done()"
   ]
  }
 ],
 "metadata": {
  "kernelspec": {
   "display_name": "Python 3 (ipykernel)",
   "language": "python",
   "name": "python3"
  },
  "language_info": {
   "codemirror_mode": {
    "name": "ipython",
    "version": 3
   },
   "file_extension": ".py",
   "mimetype": "text/x-python",
   "name": "python",
   "nbconvert_exporter": "python",
   "pygments_lexer": "ipython3",
   "version": "3.10.5"
  }
 },
 "nbformat": 4,
 "nbformat_minor": 5
}
