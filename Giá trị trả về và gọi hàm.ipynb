{
 "cells": [
  {
   "cell_type": "markdown",
   "id": "c68fc8f5",
   "metadata": {},
   "source": [
    "# Giá trị trả về và gọi hàm"
   ]
  },
  {
   "cell_type": "markdown",
   "id": "f12caa7c",
   "metadata": {},
   "source": [
    "### Giá trị trả về của hàm là gì ?"
   ]
  },
  {
   "cell_type": "markdown",
   "id": "d6ad5565",
   "metadata": {},
   "source": [
    "Hàm có thể có giá trị trả về hoặc không có giá trị trả về. Khi hàm có giá trị trả về, lệnh return được dùng để trả về một giá trị hoặc nhiều giá trị. Khi lệnh return được thực thi, hàm sẽ kết thúc và lệnh return là lệnh không bắt buộc có trong định nghĩa hàm.\n",
    "Cú pháp: return [object]\n",
    "Giá trị trả về có thể là bất kỳ đối tượng nào trong Python,các giá trị số (int,float,complex) hay trình tự của đối tượng(list,tuple,dictionary,set), các định nghĩa, class ,function,module hoặc packages"
   ]
  },
  {
   "cell_type": "code",
   "execution_count": 2,
   "id": "c4cbce74",
   "metadata": {},
   "outputs": [
    {
     "data": {
      "text/plain": [
       "9"
      ]
     },
     "execution_count": 2,
     "metadata": {},
     "output_type": "execute_result"
    }
   ],
   "source": [
    "#Hàm sử dụng return trả về:\n",
    "def sum(a,b):\n",
    "    return a+b\n",
    "sum(5,4)"
   ]
  },
  {
   "cell_type": "code",
   "execution_count": 3,
   "id": "4c9b1e59",
   "metadata": {},
   "outputs": [
    {
     "name": "stdout",
     "output_type": "stream",
     "text": [
      "9\n"
     ]
    }
   ],
   "source": [
    "#Hàm khi không sử dụng return\n",
    "def sum(a,b):\n",
    "    print(a+b)\n",
    "sum(5,4)"
   ]
  },
  {
   "cell_type": "code",
   "execution_count": 5,
   "id": "abcec56d",
   "metadata": {},
   "outputs": [
    {
     "name": "stdout",
     "output_type": "stream",
     "text": [
      "13 7 30\n",
      "(13, 7, 30)\n"
     ]
    }
   ],
   "source": [
    "#Hàm trả về nhiều giá trị\n",
    "def calculator(a, b):\n",
    "    sum = a + b\n",
    "    sub = a - b\n",
    "    mul = a * b\n",
    "    return sum, sub, mul\n",
    "\n",
    "\n",
    "sum, sub, mul = calculator(10, 3)\n",
    "print(sum, sub, mul)\n",
    "#Lưu ý không nên in ra trực tiếp hàm trả về nhiều giá trị,khi đó hàm sẽ return về giá trị dưới dạng Tuple(Tuple là 1 dạng dữ\n",
    "#liệu mà các phần tử trong đó được xếp theo thứ tự và không thể thay đổi được giá trị khi kết thúc khai báo)\n",
    "\n",
    "print(calculator(10,3))\n",
    "#Vì lưu giữ trong tuble nên không thể thay đổi hoặc xóa phần tử"
   ]
  },
  {
   "cell_type": "code",
   "execution_count": 9,
   "id": "8583f59a",
   "metadata": {},
   "outputs": [
    {
     "name": "stdout",
     "output_type": "stream",
     "text": [
      "None\n"
     ]
    }
   ],
   "source": [
    "#Lưu ý: Khi hàm định nghĩa không có từ khóa return, giá trị mặc định được trả về là None.\n",
    "def calculator(a,b):\n",
    "    sum=a+b\n",
    "\n",
    "print(calculator(5,4))"
   ]
  },
  {
   "cell_type": "markdown",
   "id": "a84d412f",
   "metadata": {},
   "source": [
    "# Gọi hàm"
   ]
  },
  {
   "cell_type": "markdown",
   "id": "b7fe2b57",
   "metadata": {},
   "source": [
    "Sau khi hàm được định nghĩa,ta có thể gọi hàm ở mọi nơi chúng ta muốn \n",
    "Lưu ý : khi gọi hàm cần truyền đầy đủ các đối số bắt buộc (nếu không sẽ phát sinh lỗi )"
   ]
  },
  {
   "cell_type": "code",
   "execution_count": 10,
   "id": "6e63ac1c",
   "metadata": {},
   "outputs": [
    {
     "ename": "TypeError",
     "evalue": "sum() missing 1 required positional argument: 'b'",
     "output_type": "error",
     "traceback": [
      "\u001b[1;31m---------------------------------------------------------------------------\u001b[0m",
      "\u001b[1;31mTypeError\u001b[0m                                 Traceback (most recent call last)",
      "Cell \u001b[1;32mIn [10], line 4\u001b[0m\n\u001b[0;32m      2\u001b[0m     \u001b[38;5;28;01mreturn\u001b[39;00m a\u001b[38;5;241m+\u001b[39mb\n\u001b[0;32m      3\u001b[0m \u001b[38;5;66;03m#Hàm không truyền vào đầy đủ đối số\u001b[39;00m\n\u001b[1;32m----> 4\u001b[0m \u001b[38;5;28;43msum\u001b[39;49m\u001b[43m(\u001b[49m\u001b[38;5;241;43m5\u001b[39;49m\u001b[43m)\u001b[49m\n",
      "\u001b[1;31mTypeError\u001b[0m: sum() missing 1 required positional argument: 'b'"
     ]
    }
   ],
   "source": [
    "\n",
    "def sum(a,b):\n",
    "    return a+b\n",
    "#Hàm không truyền vào đầy đủ đối số nên đã phát sinh lỗi\n",
    "sum(5)"
   ]
  },
  {
   "cell_type": "code",
   "execution_count": 13,
   "id": "573e502b",
   "metadata": {},
   "outputs": [
    {
     "ename": "TypeError",
     "evalue": "can only concatenate str (not \"int\") to str",
     "output_type": "error",
     "traceback": [
      "\u001b[1;31m---------------------------------------------------------------------------\u001b[0m",
      "\u001b[1;31mTypeError\u001b[0m                                 Traceback (most recent call last)",
      "Cell \u001b[1;32mIn [13], line 3\u001b[0m\n\u001b[0;32m      1\u001b[0m \u001b[38;5;28;01mdef\u001b[39;00m \u001b[38;5;21mmyname\u001b[39m(name):\n\u001b[0;32m      2\u001b[0m     \u001b[38;5;28mprint\u001b[39m(\u001b[38;5;124m\"\u001b[39m\u001b[38;5;124mtôi tên là\u001b[39m\u001b[38;5;124m\"\u001b[39m\u001b[38;5;241m+\u001b[39mname)\n\u001b[1;32m----> 3\u001b[0m \u001b[43mmyname\u001b[49m\u001b[43m(\u001b[49m\u001b[38;5;241;43m3\u001b[39;49m\u001b[43m)\u001b[49m\n",
      "Cell \u001b[1;32mIn [13], line 2\u001b[0m, in \u001b[0;36mmyname\u001b[1;34m(name)\u001b[0m\n\u001b[0;32m      1\u001b[0m \u001b[38;5;28;01mdef\u001b[39;00m \u001b[38;5;21mmyname\u001b[39m(name):\n\u001b[1;32m----> 2\u001b[0m     \u001b[38;5;28mprint\u001b[39m(\u001b[38;5;124;43m\"\u001b[39;49m\u001b[38;5;124;43mtôi tên là\u001b[39;49m\u001b[38;5;124;43m\"\u001b[39;49m\u001b[38;5;241;43m+\u001b[39;49m\u001b[43mname\u001b[49m)\n",
      "\u001b[1;31mTypeError\u001b[0m: can only concatenate str (not \"int\") to str"
     ]
    }
   ],
   "source": [
    "def myname(name):\n",
    "    print(\"tôi tên là\"+name)\n",
    "myname(3) #truyền vào 1 đối số sai định dạng\n",
    "#myname(\"ba\")"
   ]
  }
 ],
 "metadata": {
  "kernelspec": {
   "display_name": "Python 3 (ipykernel)",
   "language": "python",
   "name": "python3"
  },
  "language_info": {
   "codemirror_mode": {
    "name": "ipython",
    "version": 3
   },
   "file_extension": ".py",
   "mimetype": "text/x-python",
   "name": "python",
   "nbconvert_exporter": "python",
   "pygments_lexer": "ipython3",
   "version": "3.10.5"
  }
 },
 "nbformat": 4,
 "nbformat_minor": 5
}
