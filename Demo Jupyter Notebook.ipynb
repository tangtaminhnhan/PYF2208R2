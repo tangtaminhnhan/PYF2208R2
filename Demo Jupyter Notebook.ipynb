{
 "cells": [
  {
   "cell_type": "code",
   "execution_count": 14,
   "id": "3d543820",
   "metadata": {},
   "outputs": [
    {
     "name": "stdout",
     "output_type": "stream",
     "text": [
      "Hello World!\n",
      "My name is Ha\n",
      "I am studying Python Fundamental\n"
     ]
    }
   ],
   "source": [
    "print ('Hello World!' +'\\n'+'My name is Ha'+'\\n'+ 'I am studying Python Fundamental')\n"
   ]
  },
  {
   "cell_type": "code",
   "execution_count": 10,
   "id": "27a452d5",
   "metadata": {},
   "outputs": [
    {
     "name": "stdout",
     "output_type": "stream",
     "text": [
      "Hello World!! /nMy name is LOng /nIm study Python Fundamental\n"
     ]
    }
   ],
   "source": [
    "print(\"Hello World!! /nMy name is LOng /nIm study Python Fundamental\")\n"
   ]
  }
 ],
 "metadata": {
  "kernelspec": {
   "display_name": "Python 3 (ipykernel)",
   "language": "python",
   "name": "python3"
  },
  "language_info": {
   "codemirror_mode": {
    "name": "ipython",
    "version": 3
   },
   "file_extension": ".py",
   "mimetype": "text/x-python",
   "name": "python",
   "nbconvert_exporter": "python",
   "pygments_lexer": "ipython3",
   "version": "3.10.5"
  }
 },
 "nbformat": 4,
 "nbformat_minor": 5
}
