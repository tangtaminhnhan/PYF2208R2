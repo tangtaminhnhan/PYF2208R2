{
 "cells": [
  {
   "cell_type": "markdown",
   "id": "0b0c5e7c",
   "metadata": {},
   "source": [
    "# BÀI TRÌNH BÀY VỀ LỚP VÀ ĐỐI TƯỢNG.\n",
    "    - PHẦN 1: LỚP.\n",
    "    - PHẦN 2: ĐỐI TƯỢNG.\n",
    "    - PHẦN 3: HÀM TRONG LỚP.\n",
    "    - PHẦN 4: VÍ DỤ VỀ ỨNG DỤNG CỦA LỚP VÀ ĐỐI TƯỢNG"
   ]
  },
  {
   "cell_type": "markdown",
   "id": "322bdafc",
   "metadata": {},
   "source": [
    "# PHẦN 1: LỚP.\n",
    "    1. ĐỊNH NGHĨA LỚP.\n",
    "    2. CÁCH KHAI BÁO LỚP.\n",
    "    3. CÁC THÀNH PHẦN CỦA LỚP.\n",
    "    4. TÍNH CHẤT CỦA LỚP."
   ]
  },
  {
   "cell_type": "markdown",
   "id": "be63752b",
   "metadata": {},
   "source": [
    "Lớp (Class) là tập hợp tất cả các đối tượng có chung các thuộc tính và hành vi. Thuộc tính là những tính chất, hình dáng bên ngoài, màu…của đối tượng. (~ Dữ liệu) Hành vi là những chức năng, hành động của đối tượng có thể thực hiện được.(~ Hàm) Ví dụ: Trong class Học sinh, chúng ta có: Thuộc tính: id, tên tuổi, địa chỉ, điểm toán, điểm văn,... Hành vi: check, show"
   ]
  },
  {
   "cell_type": "code",
   "execution_count": null,
   "id": "10fd21b8",
   "metadata": {},
   "outputs": [],
   "source": [
    "# Cách khai báo lớp\n",
    "# Giống như định nghĩa hàm bắt đầu bằng từ khóa def trong Python, định nghĩa lớp bắt đầu bằng từ khóa class.\n",
    "\n",
    "class HocSinh:\n",
    "    'docstrings'\n",
    "    <Câu lệnh 1>\n",
    "    <Câu lệnh 2>\n",
    "    .\n",
    "    .\n",
    "    <Câu lệnh N>"
   ]
  },
  {
   "cell_type": "markdown",
   "id": "1142fa03",
   "metadata": {},
   "source": [
    "Trong đó:\n",
    "\n",
    "HocSinh: là tên được đặt cho lớp được định nghĩa, chúng ta sẽ tương tác với các đối tượng sinh ra từ lớp bằng cách sử dụng tên này.\n",
    "Chuỗi đầu tiên bên trong lớp được gọi là docstring và có nhiệm vụ mô tả ngắn gọn về lớp, mặc dù là không bắt buộc.\n",
    "Các câu lệnh để định nghĩa các thuộc tính và hành vi (phương thức) của đối tượng trong lớp."
   ]
  },
  {
   "cell_type": "code",
   "execution_count": 56,
   "id": "8d0a3f34",
   "metadata": {},
   "outputs": [
    {
     "ename": "TypeError",
     "evalue": "HocSinh.__init__() missing 6 required positional arguments: 'id', 'ten', 'tuoi', 'dia_chi', 'diem_toan', and 'diem_van'",
     "output_type": "error",
     "traceback": [
      "\u001b[1;31m---------------------------------------------------------------------------\u001b[0m",
      "\u001b[1;31mTypeError\u001b[0m                                 Traceback (most recent call last)",
      "Cell \u001b[1;32mIn [56], line 29\u001b[0m\n\u001b[0;32m     27\u001b[0m         \u001b[38;5;28mself\u001b[39m\u001b[38;5;241m.\u001b[39mcheck(\u001b[38;5;28mself\u001b[39m\u001b[38;5;241m.\u001b[39mdiem_toan, \u001b[38;5;28mself\u001b[39m\u001b[38;5;241m.\u001b[39mdiem_van)\n\u001b[0;32m     28\u001b[0m         \u001b[38;5;28mprint\u001b[39m(\u001b[38;5;124mf\u001b[39m\u001b[38;5;124m'\u001b[39m\u001b[38;5;124mThông báo \u001b[39m\u001b[38;5;132;01m{\u001b[39;00m\u001b[38;5;28mself\u001b[39m\u001b[38;5;241m.\u001b[39mten\u001b[38;5;132;01m}\u001b[39;00m\u001b[38;5;124m thuộc level: \u001b[39m\u001b[38;5;132;01m{\u001b[39;00m\u001b[38;5;28mself\u001b[39m\u001b[38;5;241m.\u001b[39mlevel\u001b[38;5;132;01m}\u001b[39;00m\u001b[38;5;124m'\u001b[39m)\n\u001b[1;32m---> 29\u001b[0m a \u001b[38;5;241m=\u001b[39m \u001b[43mHocSinh\u001b[49m\u001b[43m(\u001b[49m\u001b[43m)\u001b[49m\n\u001b[0;32m     30\u001b[0m a\u001b[38;5;241m.\u001b[39mcheck(\u001b[38;5;241m2\u001b[39m,\u001b[38;5;241m3\u001b[39m)\n\u001b[0;32m     31\u001b[0m a\u001b[38;5;241m.\u001b[39mshow()\n",
      "\u001b[1;31mTypeError\u001b[0m: HocSinh.__init__() missing 6 required positional arguments: 'id', 'ten', 'tuoi', 'dia_chi', 'diem_toan', and 'diem_van'"
     ]
    }
   ],
   "source": [
    "class HocSinh:\n",
    "    'Đây là lớp Học sinh đánh giá bằng 2 môn Toán và Văn'\n",
    "    id = ''\n",
    "    ten = ''\n",
    "    tuoi = ''\n",
    "    dia_chi = ''\n",
    "    diem_toan = ''\n",
    "    dien_van = ''\n",
    "    level = ''\n",
    "    def __init__(self, id, ten, tuoi, dia_chi, diem_toan, diem_van):\n",
    "        # khai báo các thuộc tính của HocSinh\n",
    "        self.id = id\n",
    "        self.ten = ten\n",
    "        self.tuoi = tuoi\n",
    "        self.dia_chi = dia_chi\n",
    "        self.diem_toan = diem_toan\n",
    "        self.diem_van = diem_van\n",
    "        # khai báo các phương thức của HocSinh\n",
    "    def check(self, diem_toan, diem_van):\n",
    "        if diem_toan >= 8 and diem_van >= 8:\n",
    "            self.level = 'Gioi'\n",
    "        elif diem_toan <= 5 and diem_van <= 5:\n",
    "            self.level = 'kem'\n",
    "        else:\n",
    "            self.level = 'trung binh'\n",
    "    def show(self):\n",
    "        self.check(self.diem_toan, self.diem_van)\n",
    "        print(f'Thông báo {self.ten} thuộc level: {self.level}')\n",
    "a = HocSinh(1,2,3,4,5,6)\n",
    "a.check(2,3)\n",
    "a.show()"
   ]
  },
  {
   "cell_type": "code",
   "execution_count": 51,
   "id": "c2f4131b",
   "metadata": {},
   "outputs": [
    {
     "ename": "TypeError",
     "evalue": "Car.__init__() missing 1 required positional argument: 'mau'",
     "output_type": "error",
     "traceback": [
      "\u001b[1;31m---------------------------------------------------------------------------\u001b[0m",
      "\u001b[1;31mTypeError\u001b[0m                                 Traceback (most recent call last)",
      "Cell \u001b[1;32mIn [51], line 21\u001b[0m\n\u001b[0;32m     19\u001b[0m         \u001b[38;5;28mprint\u001b[39m(\u001b[38;5;124m\"\u001b[39m\u001b[38;5;124mĐộng cơ ô tô = \u001b[39m\u001b[38;5;124m\"\u001b[39m, \u001b[38;5;28mself\u001b[39m\u001b[38;5;241m.\u001b[39mengine)\n\u001b[0;32m     20\u001b[0m         \u001b[38;5;28mprint\u001b[39m(\u001b[38;5;124m\"\u001b[39m\u001b[38;5;124mVận tốc tối đa ô tô = \u001b[39m\u001b[38;5;124m\"\u001b[39m, \u001b[38;5;28mself\u001b[39m\u001b[38;5;241m.\u001b[39mmax_speed)\n\u001b[1;32m---> 21\u001b[0m a \u001b[38;5;241m=\u001b[39m\u001b[43mCar\u001b[49m\u001b[43m(\u001b[49m\u001b[38;5;124;43m\"\u001b[39;49m\u001b[38;5;124;43mss\u001b[39;49m\u001b[38;5;124;43m\"\u001b[39;49m\u001b[43m)\u001b[49m\n\u001b[0;32m     22\u001b[0m a\u001b[38;5;241m.\u001b[39mrun()\n",
      "\u001b[1;31mTypeError\u001b[0m: Car.__init__() missing 1 required positional argument: 'mau'"
     ]
    }
   ],
   "source": [
    "class Car:\n",
    "    # Liệt kê các thuộc tính của lớp ô tô\n",
    "    engine = \"\"\n",
    "    max_speed = \"\"\n",
    "    # Liệt kê các hàm của lớp\n",
    "    def __init__(self, cong, mau):\n",
    "        self.engine = cong\n",
    "        self.color = mau\n",
    "        print(self.color)\n",
    "    def run(self):\n",
    "        print(\"Chuyển động của ô tô\")\n",
    "        print(self.color)\n",
    "        print(type(self.color))\n",
    "    def load(self):\n",
    "        print(\"Có thể chở hàng\")\n",
    "\n",
    "    def show(self):\n",
    "        print(\"Màu của ô tô = \", self.color)\n",
    "        print(\"Động cơ ô tô = \", self.engine)\n",
    "        print(\"Vận tốc tối đa ô tô = \", self.max_speed)\n",
    "a =Car(\"ss\")\n",
    "a.run()"
   ]
  },
  {
   "cell_type": "markdown",
   "id": "ef8f6b3a",
   "metadata": {},
   "source": [
    "Một lớp là một bản thiết kế cho đối tượng. Chúng ta có thể coi một lớp như một bản phác thảo của một ngôi nhà với các chi tiết. Nó chứa tất cả các chi tiết về tên, màu sắc, kích thước,.. Dựa trên những mô tả này, chúng ta có thể xây dựng các ngôi nhà. Ở đây, một ngôi nhà là một đối tượng. Tức là bạn có thể sử dụng bản thiết kế (hay lớp này) để định nghĩa bao nhiêu đối tượng tùy thích.\n",
    "\n",
    "Về mặt biểu diễn các khối lệnh, áp dụng các quy tắc thụt lề tương tự như hàm với lưu ý ở đây khối định nghĩa lớp là khối lệnh lớn nhất, sau đó sẽ đến các khối lệnh định nghĩa hàm (phương thức) trong lớp, các khối điều kiện, vòng lặp...Mỗi khối lệnh nhỏ nằm trong khối lệnh lớn sẽ phải thụt dòng một khoảng bằng nhau!\n",
    "\n",
    "Python cho phép một lớp (hay class) sử dụng lại các thuộc tính và phương thức từ các lớp khác đã được định nghĩa. Các lớp con trong Python sẽ khai báo việc kế thừa một lớp cha ngay trong phần khai báo class và sử dụng khai báo việc kế thừa thông qua việc truyền tên của lớp cha (lớp cần kế thừa) vào trong phần đầu class. Ví dụ: class Lop(HocSinh) để khai báo class(Lop) kế thừa class(HocSinh). Khi một lớp con kế thừa lớp cha thì lớp con sẽ có thể có tất cả các thuộc tính và phương thức của lớp cha. Ngoài ra lớp con cũng có thể mở rộng các thành phần kế thừa từ lớp cha và bổ sung thêm các thành phần mới."
   ]
  },
  {
   "cell_type": "code",
   "execution_count": 58,
   "id": "e259e607",
   "metadata": {},
   "outputs": [
    {
     "name": "stdout",
     "output_type": "stream",
     "text": [
      "nam\n"
     ]
    }
   ],
   "source": [
    "# khai báo lớp Lớp kế thừa lớp HocSinh\n",
    "class Lop(HocSinh):\n",
    "    #khai báo thuộc tính của lớp Lop\n",
    "    def __init__(self, gioi_tinh, diem_trung_binh):\n",
    "        self.GioiTinh = gioi_tinh\n",
    "        self.DiemTrungBinh = diem_trung_binh\n",
    "        print(self.GioiTinh)\n",
    "    #Khai báo cac phương thức của lớp Lop\n",
    "    def DanhGia(self):\n",
    "        print(\"Học sinh\" + self.ten + \"xếp thứ\" + self.ThuTu)\n",
    "b = Lop(\"nam\",4)"
   ]
  },
  {
   "cell_type": "markdown",
   "id": "17bd12a9",
   "metadata": {},
   "source": [
    "# PHẦN 2: ĐỐI TƯỢNG\n",
    "    1. Khái niệm đối tượng.\n",
    "    2. Cách khai báo đối tượng.\n",
    "    3. Thuộc tính của đối tượng.\n",
    "    4. Phương thức của đối tượng."
   ]
  },
  {
   "cell_type": "markdown",
   "id": "618f478c",
   "metadata": {},
   "source": [
    "1.Khái niệm về đối tượng"
   ]
  },
  {
   "cell_type": "raw",
   "id": "7660fd21",
   "metadata": {},
   "source": [
    "# Đối tượng là một thể hiện cụ thể nào đó của lớp và nó có đầy đủ các thuộc tính và hành vi của lớp đó\n",
    "# Đối tượng là một khái niệm cụ thể\n",
    "# Đối tượng là sự thể hiện của một lớp và được coi như những sản phẩm thực sự được tạo ra từ khuôn mẫu đó (Lớp)"
   ]
  },
  {
   "cell_type": "markdown",
   "id": "df2701c6",
   "metadata": {},
   "source": [
    "2.Cách khai báo đối tượng."
   ]
  },
  {
   "cell_type": "code",
   "execution_count": 69,
   "id": "2cdb7bc8",
   "metadata": {},
   "outputs": [
    {
     "ename": "IndentationError",
     "evalue": "unexpected indent (2672446833.py, line 6)",
     "output_type": "error",
     "traceback": [
      "\u001b[1;36m  Cell \u001b[1;32mIn [69], line 6\u001b[1;36m\u001b[0m\n\u001b[1;33m    def an(self):\u001b[0m\n\u001b[1;37m    ^\u001b[0m\n\u001b[1;31mIndentationError\u001b[0m\u001b[1;31m:\u001b[0m unexpected indent\n"
     ]
    }
   ],
   "source": [
    "class Dog:\n",
    "    pass\n",
    "color = \"\"\n",
    "country = \"\"\n",
    "weight = \"\"\n",
    "    def an(self):\n",
    "    print(self.color)\n",
    "a= Dog()\n",
    "a.color = \"s\"\n",
    "a.country = \"s\"\n",
    "a.an()"
   ]
  },
  {
   "cell_type": "markdown",
   "id": "9c21b7e5",
   "metadata": {},
   "source": [
    "3.Thuộc tính của đối tượng."
   ]
  },
  {
   "cell_type": "markdown",
   "id": "8d73f6b4",
   "metadata": {},
   "source": [
    "#Thuộc tính: Những đặc điểm đặc trưng của đối tượng, thể hiện thông qua những giá trị cụ thể"
   ]
  },
  {
   "cell_type": "code",
   "execution_count": 7,
   "id": "9dcfc9c1",
   "metadata": {},
   "outputs": [
    {
     "name": "stdout",
     "output_type": "stream",
     "text": [
      "Viet Nam\n"
     ]
    }
   ],
   "source": [
    "class Dog:\n",
    "    pass\n",
    "d = Dog()\n",
    "d.color = \"Yellow\"\n",
    "d.country = \"Viet Nam\"\n",
    "d.weight = \"30kg\"\n",
    "print(d.country)"
   ]
  },
  {
   "cell_type": "markdown",
   "id": "bd60191c",
   "metadata": {},
   "source": [
    "#Lưu ý :nếu phần thuộc tính để trống thì sẽ không ra kết quả"
   ]
  },
  {
   "cell_type": "code",
   "execution_count": 6,
   "id": "d26b5b2d",
   "metadata": {},
   "outputs": [
    {
     "ename": "AttributeError",
     "evalue": "'Dog' object has no attribute 'color'",
     "output_type": "error",
     "traceback": [
      "\u001b[1;31m---------------------------------------------------------------------------\u001b[0m",
      "\u001b[1;31mAttributeError\u001b[0m                            Traceback (most recent call last)",
      "Cell \u001b[1;32mIn [6], line 7\u001b[0m\n\u001b[0;32m      4\u001b[0m d1\u001b[38;5;241m.\u001b[39mcolor \u001b[38;5;241m=\u001b[39m\u001b[38;5;124m\"\u001b[39m\u001b[38;5;124mYellow\u001b[39m\u001b[38;5;124m\"\u001b[39m\n\u001b[0;32m      5\u001b[0m d2 \u001b[38;5;241m=\u001b[39m Dog()\n\u001b[1;32m----> 7\u001b[0m \u001b[38;5;28mprint\u001b[39m(\u001b[43md2\u001b[49m\u001b[38;5;241;43m.\u001b[39;49m\u001b[43mcolor\u001b[49m)\n",
      "\u001b[1;31mAttributeError\u001b[0m: 'Dog' object has no attribute 'color'"
     ]
    }
   ],
   "source": [
    "class Dog:\n",
    "    pass\n",
    "d1 = Dog()\n",
    "d1.color =\"Yellow\"\n",
    "d2 = Dog()\n",
    "\n",
    "print(d2.color)"
   ]
  },
  {
   "cell_type": "markdown",
   "id": "ef760a97",
   "metadata": {},
   "source": [
    "4.Phương thức của đối tượng."
   ]
  },
  {
   "cell_type": "markdown",
   "id": "5aac552a",
   "metadata": {},
   "source": [
    "#Phương thức: Những hành động, cách thức biểu diễn chức năng của đối tượng"
   ]
  },
  {
   "cell_type": "code",
   "execution_count": 25,
   "id": "2a2a6755",
   "metadata": {},
   "outputs": [
    {
     "name": "stdout",
     "output_type": "stream",
     "text": [
      "re\n",
      "test\n"
     ]
    }
   ],
   "source": [
    "class Dog:\n",
    "    def print_test(self):\n",
    "        print(\"test\")\n",
    "d = Dog()\n",
    "d.color =\"re\"\n",
    "print(d.color)\n",
    "d.print_test()"
   ]
  },
  {
   "cell_type": "markdown",
   "id": "31dff0c4",
   "metadata": {},
   "source": [
    "# PHẦN 3: HÀM TRONG LỚP\n",
    "    1. HÀM KHỞI TẠO.\n",
    "    2. HÀM HỦY."
   ]
  },
  {
   "cell_type": "markdown",
   "id": "b162a2b6",
   "metadata": {},
   "source": [
    "1. HÀM KHỞI TẠO"
   ]
  },
  {
   "cell_type": "code",
   "execution_count": null,
   "id": "4f6de466",
   "metadata": {},
   "outputs": [],
   "source": [
    "# Hàm khởi tạo( Hàm constructor)\n",
    "Phương thức khởi tạo là một phương thức đặc biệt ở trong class \n",
    "phương thức này mặc định sẽ được gọi khi chúng ta khởi tạo class đó. \n",
    "Nó thường được dùng để khởi tạo các thuộc, xử lý phương thức hoặc là dùng để nhận các tham số truyền vào class khi khởi tạo.\n",
    "Để khai báo một phương thức khởi tạo trong class thì mọi người chỉ cần viết một hàm có tên là __init__ với cú pháp như sau:\n",
    "class className:\n",
    "    def __init__ (self,param1,param2):\n",
    "Trong đó :\n",
    "className : là tên của lớp\n",
    "self : # Self parameter\n",
    "Tham số self là tham chiếu đến lớp chính nó, và được sử dụng để truy cập các biến đó thuộc về lớp.\n",
    "Nó không nhất thiết được đặt tên self, ta có thể gọi nó là bất tên tùy thích, nhưng nó phải là tham số đầu tiên của bất kỳ hàm nào trong lớp\n",
    "Sử dụng các từ mysillyobject và abc thay vì self\n",
    "param1,param2... : tham số đi kèm khi ta khởi tạo class"
   ]
  },
  {
   "cell_type": "code",
   "execution_count": 71,
   "id": "62e12c0d",
   "metadata": {},
   "outputs": [
    {
     "name": "stdout",
     "output_type": "stream",
     "text": [
      "ss\n",
      "Class person được khởi tạo \n"
     ]
    }
   ],
   "source": [
    "#VD :\n",
    "class Person :\n",
    "    def __init__(self):\n",
    "        print(hello)\n",
    "        print(\"Class person được khởi tạo \")\n",
    "a = Person(\"ss\")"
   ]
  },
  {
   "cell_type": "code",
   "execution_count": 29,
   "id": "52e8ef78",
   "metadata": {},
   "outputs": [
    {
     "name": "stdout",
     "output_type": "stream",
     "text": [
      "Xuan Thuy\n"
     ]
    }
   ],
   "source": [
    "class SinhVien: \n",
    "    def __init__(self, name, age, gender):\n",
    "        self.name = name\n",
    "        self.age = age\n",
    "        self.gender = gender\n",
    "    def print_info(self):\n",
    "        print(self.name)\n",
    "sv1=SinhVien(\"Xuan Thuy\",29,\"Nữ\")\n",
    "sv1.print_info()"
   ]
  },
  {
   "cell_type": "code",
   "execution_count": 89,
   "id": "9ddfdd51",
   "metadata": {},
   "outputs": [
    {
     "name": "stdout",
     "output_type": "stream",
     "text": [
      "(50.00,50.00)\n"
     ]
    }
   ],
   "source": [
    "import turtle\n",
    "pen = turtle.Turtle()\n",
    "pen.pensize(2)\n",
    "pen.speed(2)\n",
    "pen.pencolor(\"blue\")\n",
    "pen.stamp()\n",
    "pen.fd(50)\n",
    "pen.lt(90)\n",
    "pen.fd(50)\n",
    "turtle.done()"
   ]
  },
  {
   "cell_type": "markdown",
   "id": "244e8e19",
   "metadata": {},
   "source": [
    "2. HÀM HỦY"
   ]
  },
  {
   "cell_type": "markdown",
   "id": "61c93032",
   "metadata": {},
   "source": [
    "#Hàm Destruction (Hàm hủy)\n",
    "Trái ngược với phương thức khởi tạo, thì phương thức hủy sẽ được gọi khi chúng ta hủy một class, \n",
    "hay nó cách khác nó luôn được thực thi cuối cùng khi chúng ta khởi tạo một class. \n",
    "Nó thường được dùng để giải phóng tài nguyên của class.\n",
    "#Cú Pháp :\n",
    "def __ del__( self):\n",
    "    # code"
   ]
  },
  {
   "cell_type": "code",
   "execution_count": 36,
   "id": "4f6dae87",
   "metadata": {},
   "outputs": [
    {
     "name": "stdout",
     "output_type": "stream",
     "text": [
      "Class person được khởi tạo \n",
      "Name:  cc  Age: dd Gender:  vv\n",
      "Class person được hủy\n"
     ]
    }
   ],
   "source": [
    "# VD:\n",
    "class Person:\n",
    "    def __init__(self, name, age, gender):\n",
    "        self.name = name\n",
    "        self.age = age\n",
    "        self.gender = gender\n",
    "        print(\"Class person được khởi tạo \")\n",
    "        print(\"Name: \", self.name , \" Age:\",self.age ,\"Gender: \",self.gender)\n",
    "    def nnn(self):\n",
    "        print(\"Class person được hủy\")   \n",
    "        \n",
    "a = Person(\"cc\",\"dd\",\"vv\")"
   ]
  },
  {
   "cell_type": "code",
   "execution_count": 22,
   "id": "67a6eb5a",
   "metadata": {},
   "outputs": [
    {
     "name": "stdout",
     "output_type": "stream",
     "text": [
      "Name:  Xuan Thuy  Age: 29 Gender:  Nữ\n",
      "Name:  Xuan Thuy  Age: 29 Gender:  Nữ\n",
      "Class person được hủy\n"
     ]
    }
   ],
   "source": [
    "class SinhVien: \n",
    "    def __init__(self, name, age, gender):\n",
    "        self.name = name\n",
    "        self.age = age\n",
    "        self.gender = gender\n",
    "    def nnn(self):\n",
    "        print(\"Name: \", self.name , \" Age:\",self.age ,\"Gender: \",self.gender)\n",
    "    def __del__(self):\n",
    "        print(\"Class person được hủy\")\n",
    "sv1=SinhVien(\"Xuan Thuy\",29,\"Nữ\")\n",
    "sv1.nnn()\n",
    "del sv1\n"
   ]
  },
  {
   "cell_type": "markdown",
   "id": "906389b8",
   "metadata": {},
   "source": [
    "# PHẦN 4: VÍ DỤ VỀ CÁCH SỬ DỤNG LỚP VÀ ĐỐI TƯỢNG"
   ]
  },
  {
   "cell_type": "code",
   "execution_count": 73,
   "id": "bdece91e",
   "metadata": {},
   "outputs": [
    {
     "name": "stdout",
     "output_type": "stream",
     "text": [
      "Nhap id: 1\n",
      "Nhap ten: 2\n",
      "Nhap diem toan: 9\n",
      "Nhap diem van: 9\n",
      "Ban có muốn nhập dữ liệu tiếp không Y/N: n\n",
      "ban muốn lọc sinh viên loại gì?gioi/trung  binh/kem gioi\n",
      "Tổng số SV level gioi là: 0\n"
     ]
    }
   ],
   "source": [
    "# chuong trình nhập dữ liệu và xuất ra sinh viên theo tùy biến.\n",
    "class hoc_sinh:\n",
    "    id = ''\n",
    "    ten = ''\n",
    "    diem_toan = ''\n",
    "    dien_van = ''\n",
    "    level = ''\n",
    "    def __init__(self, id, ten, diem_toan, diem_van):\n",
    "        self.id = id\n",
    "        self.ten = ten\n",
    "        self.diem_toan = diem_toan\n",
    "        self.diem_van = diem_van\n",
    "    def check(self, diem_toan, diem_van):\n",
    "        if diem_toan >= 8 and diem_van >= 8:\n",
    "            self.level = 'gioi'\n",
    "        elif diem_toan <= 5 and diem_van <= 5:\n",
    "            self.level = 'kem'\n",
    "        else:\n",
    "            self.level = 'trung binh'\n",
    "    def show(self):\n",
    "        print(f'Thông báo {self.ten} thuộc level: {self.level}')\n",
    "\n",
    "check = 'Y'\n",
    "list = []\n",
    "while check == 'Y':\n",
    "    id = input('Nhap id: ')\n",
    "    ten = input('Nhap ten: ')\n",
    "    diem_toan = int(input('Nhap diem toan: '))\n",
    "    diem_van = int(input('Nhap diem van: '))\n",
    "    sv1 = hoc_sinh(id, ten, diem_toan, diem_van)\n",
    "    sv1.check(sv1.diem_toan, sv1.diem_van)\n",
    "    list.append(sv1)\n",
    "    check = input('Ban có muốn nhập dữ liệu tiếp không Y/N: ')\n",
    "\n",
    "loc_sv = input('ban muốn lọc sinh viên loại gì?gioi/trung  binh/kem ')\n",
    "j = 0\n",
    "for i in list:\n",
    "    if i.level == loc_sv:\n",
    "        i.show()\n",
    "        j +=1\n",
    "print(f'Tổng số SV level {loc_sv} là: {j}')"
   ]
  },
  {
   "cell_type": "code",
   "execution_count": 79,
   "id": "1e9cde13",
   "metadata": {},
   "outputs": [
    {
     "name": "stdout",
     "output_type": "stream",
     "text": [
      "\n",
      "Hàm khởi tạo mặc định được gọi khi tạo đối tượng\n"
     ]
    }
   ],
   "source": [
    "class Car:\n",
    "    # Liệt kê các thuộc tính của lớp ô tô\n",
    "    engine = \"V8\"\n",
    "    color = \"black\"\n",
    "    max_speed = 100\n",
    "\n",
    "    # Hàm khởi tạo mặc định\n",
    "    def __init__(self):\n",
    "        self.color = \"default: white color\"\n",
    "        print(color)\n",
    "        print(\"Hàm khởi tạo mặc định được gọi khi tạo đối tượng\")\n",
    " \n",
    "# Hàm khởi tạo mặc định được gọi\n",
    "# khi khởi tạo đối tượng\n",
    "sonata = Car()"
   ]
  },
  {
   "cell_type": "code",
   "execution_count": null,
   "id": "f555433a",
   "metadata": {},
   "outputs": [],
   "source": []
  }
 ],
 "metadata": {
  "kernelspec": {
   "display_name": "Python 3 (ipykernel)",
   "language": "python",
   "name": "python3"
  },
  "language_info": {
   "codemirror_mode": {
    "name": "ipython",
    "version": 3
   },
   "file_extension": ".py",
   "mimetype": "text/x-python",
   "name": "python",
   "nbconvert_exporter": "python",
   "pygments_lexer": "ipython3",
   "version": "3.10.5"
  }
 },
 "nbformat": 4,
 "nbformat_minor": 5
}
