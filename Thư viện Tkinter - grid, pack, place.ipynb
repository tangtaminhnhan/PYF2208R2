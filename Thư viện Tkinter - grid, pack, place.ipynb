{
 "cells": [
  {
   "cell_type": "markdown",
   "id": "4c559a90",
   "metadata": {},
   "source": [
    "## pack\n",
    "\n",
    "Lệnh `pack()` sẽ giúp sắp xếp các đối tượng theo thứ tự nhất định"
   ]
  },
  {
   "cell_type": "code",
   "execution_count": 13,
   "id": "d6af98e3",
   "metadata": {},
   "outputs": [],
   "source": [
    "from tkinter import*\n",
    "room = Tk()\n",
    "room.title(\"regi\")\n",
    "room.geometry(\"500x300\")\n",
    "label0 = Label(room, text = \"registration form\")\n",
    "label1 = Label(room, text = \"full name\")\n",
    "label2 = Label(room, text = \"adress\")\n",
    "label3 = Label(room, text = \"email\")\n",
    "\n",
    "entry1 = Entry(room)\n",
    "entry2 = Entry(room)\n",
    "entry3 = Entry(room)\n",
    "\n",
    "button1 = Button(room, text = \"registration\")\n",
    "label0.pack()\n",
    "label1.pack()\n",
    "entry1.pack()\n",
    "label2.pack()\n",
    "entry2.pack()\n",
    "label3.pack()\n",
    "entry3.pack()\n",
    "button1.pack()\n",
    "room.mainloop()"
   ]
  },
  {
   "cell_type": "markdown",
   "id": "0093b00d",
   "metadata": {},
   "source": [
    "## grid\n",
    "Lệnh `grid()` sẽ giúp sắp xếp các đối tượng theo một bảng"
   ]
  },
  {
   "cell_type": "code",
   "execution_count": 6,
   "id": "d89cd306",
   "metadata": {},
   "outputs": [],
   "source": [
    "from tkinter import*\n",
    "room = Tk()\n",
    "room.title(\"regi\")\n",
    "room.geometry(\"500x300\")\n",
    "label0 = Label(room, text = \"registration form\")\n",
    "label1 = Label(room, text = \"full name\")\n",
    "label2 = Label(room, text = \"adress\")\n",
    "label3 = Label(room, text = \"email\")\n",
    "\n",
    "entry1 = Entry(room)\n",
    "entry2 = Entry(room)\n",
    "entry3 = Entry(room)\n",
    "\n",
    "button1 = Button(room, text = \"registration\")\n",
    "\n",
    "label0.grid(row = 0,column = 0, row = 0)\n",
    "label1.grid(row = 0,column = 1, row = 0)\n",
    "label2.grid(column = 2, row = 0)\n",
    "label3.grid(column = 3, row = 0)\n",
    "entry1.grid(column = 1, row = 1)\n",
    "entry2.grid(column = 2, row = 1)\n",
    "entry3.grid(column = 3, row = 1)\n",
    "button1.grid(column = 4, row = 0)\n",
    "room.mainloop()"
   ]
  },
  {
   "cell_type": "markdown",
   "id": "f0a05577",
   "metadata": {},
   "source": [
    "## place\n",
    "\n",
    "Lệnh `place()` sắp xếp các widget bằng cách đặt chúng vào một vị trí cụ thể trong widget chính."
   ]
  },
  {
   "cell_type": "code",
   "execution_count": null,
   "id": "070e6374",
   "metadata": {},
   "outputs": [],
   "source": [
    "from tkinter import*\n",
    "room = Tk()\n",
    "room.title(\"regi\")\n",
    "room.geometry(\"500x300\")\n",
    "label0 = Label(room, text = \"registration form\")\n",
    "label1 = Label(room, text = \"full name\")\n",
    "label2 = Label(room, text = \"adress\")\n",
    "label3 = Label(room, text = \"email\")\n",
    "\n",
    "entry1 = Entry(room)\n",
    "entry2 = Entry(room)\n",
    "entry3 = Entry(room)\n",
    "\n",
    "button1 = Button(room, text = \"registration\")\n",
    "label0.place(x = 150, y = 0)\n",
    "label1.place(x = 100, y = 50)\n",
    "label2.place(x = 100, y =100)\n",
    "label3.place(x = 100, y =150)\n",
    "entry1.place(x = 200, y =50)\n",
    "entry2.place(x = 200, y =100)\n",
    "entry3.place(x = 200, y =150)\n",
    "button1.place(x = 150, y =200)\n",
    "room.mainloop()"
   ]
  }
 ],
 "metadata": {
  "kernelspec": {
   "display_name": "Python 3 (ipykernel)",
   "language": "python",
   "name": "python3"
  },
  "language_info": {
   "codemirror_mode": {
    "name": "ipython",
    "version": 3
   },
   "file_extension": ".py",
   "mimetype": "text/x-python",
   "name": "python",
   "nbconvert_exporter": "python",
   "pygments_lexer": "ipython3",
   "version": "3.10.5"
  }
 },
 "nbformat": 4,
 "nbformat_minor": 5
}
