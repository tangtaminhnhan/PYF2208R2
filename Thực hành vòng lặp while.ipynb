{
 "cells": [
  {
   "cell_type": "code",
   "execution_count": null,
   "id": "272a3a95",
   "metadata": {},
   "outputs": [],
   "source": [
    "'''\n",
    "Khởi động: Viết chương trình in ra tất cả các số chia hết cho cả 5 và 7 trong khoảng từ 1500 đến 2700\n",
    "'''"
   ]
  },
  {
   "cell_type": "code",
   "execution_count": 1,
   "id": "18dbe371",
   "metadata": {},
   "outputs": [
    {
     "name": "stdout",
     "output_type": "stream",
     "text": [
      "1505 1540 1575 1610 1645 1680 1715 1750 1785 1820 1855 1890 1925 1960 1995 2030 2065 2100 2135 2170 2205 2240 2275 2310 2345 2380 2415 2450 2485 2520 2555 2590 2625 2660 2695 "
     ]
    }
   ],
   "source": [
    "n=1500\n",
    "while n<=2700:\n",
    "    if n%5==0 and n%7==0:\n",
    "        print(n,end=\" \")\n",
    "    n+=1"
   ]
  },
  {
   "cell_type": "code",
   "execution_count": null,
   "id": "87f74c6c",
   "metadata": {},
   "outputs": [],
   "source": [
    "'''\n",
    "Bài 1: Viết chương trình nhập vào chiều cao tam giác vuông và in ra tam giác có hình dạng như sau:\n",
    "*****\n",
    "****\n",
    "***\n",
    "** \n",
    "*\n",
    "'''"
   ]
  },
  {
   "cell_type": "code",
   "execution_count": 5,
   "id": "2b4a1af5",
   "metadata": {},
   "outputs": [
    {
     "name": "stdout",
     "output_type": "stream",
     "text": [
      "nhap vao chieu cao tam giac:5\n",
      "*****\n",
      "****\n",
      "***\n",
      "**\n",
      "*\n"
     ]
    }
   ],
   "source": [
    "chieucao=int(input(\"nhap vao chieu cao tam giac:\"))\n",
    "n=chieucao\n",
    "while chieucao>0:\n",
    "    n=chieucao\n",
    "    while n>0:\n",
    "        print(\"*\",end=\"\")\n",
    "        n-=1\n",
    "    print(\"\")\n",
    "    chieucao-=1"
   ]
  },
  {
   "cell_type": "code",
   "execution_count": null,
   "id": "ea4c14a8",
   "metadata": {},
   "outputs": [],
   "source": [
    "'''\n",
    "Bài 2: Viết chương trình nhập vào chiều cao tam giác vuông và in ra tam giác có hình dạng như sau:\n",
    "* * * * * *\n",
    "* * * * *\n",
    "* * * *\n",
    "* * *\n",
    "* *\n",
    "*\n",
    "'''"
   ]
  },
  {
   "cell_type": "code",
   "execution_count": 6,
   "id": "0ae8fae7",
   "metadata": {},
   "outputs": [
    {
     "name": "stdout",
     "output_type": "stream",
     "text": [
      "nhap vao chieu cao tam giac:6\n",
      "* * * * * * \n",
      "* * * * * \n",
      "* * * * \n",
      "* * * \n",
      "* * \n",
      "* \n"
     ]
    }
   ],
   "source": [
    "chieucao=int(input(\"nhap vao chieu cao tam giac:\"))\n",
    "n=chieucao\n",
    "while chieucao>0:\n",
    "    n=chieucao\n",
    "    while n>0:\n",
    "        print(\"*\",end=\" \")\n",
    "        n-=1\n",
    "    print(\"\")\n",
    "    chieucao-=1"
   ]
  },
  {
   "cell_type": "code",
   "execution_count": null,
   "id": "bd17e085",
   "metadata": {},
   "outputs": [],
   "source": [
    "'''\n",
    "Bài 3: Viết chương trình nhập vào chiều cao tam giác vuông và in ra tam giác có hình dạng như sau:\n",
    "* - * - *\n",
    "* - * -\n",
    "* - *\n",
    "* -\n",
    "*\n",
    "'''"
   ]
  },
  {
   "cell_type": "code",
   "execution_count": 12,
   "id": "41b59952",
   "metadata": {},
   "outputs": [
    {
     "name": "stdout",
     "output_type": "stream",
     "text": [
      "nhap vao chieu cao tam giac:5\n",
      "* - * - * \n",
      "* - * - \n",
      "* - * \n",
      "* - \n",
      "* \n"
     ]
    }
   ],
   "source": [
    "chieucao=int(input(\"nhap vao chieu cao tam giac:\"))\n",
    "n=chieucao\n",
    "while chieucao>0:\n",
    "    n=1\n",
    "    while n<=chieucao:\n",
    "        if n%2==1:\n",
    "            print(\"*\",end=\" \")\n",
    "        else:\n",
    "            print(\"-\",end=\" \")\n",
    "        n+=1\n",
    "    print(\"\")\n",
    "    chieucao-=1"
   ]
  },
  {
   "cell_type": "code",
   "execution_count": null,
   "id": "105b66bc",
   "metadata": {},
   "outputs": [],
   "source": [
    "'''\n",
    "Bài 4: Viết chương trình nhập vào một số nguyên n và in ra các số từ 1 đến n với các trường hợp ngoại lệ như sau:\n",
    "- Nếu số đó chia hết cho 3 thì in \"py\"\n",
    "- Nếu số đó chia hết cho 7 thì in \"thon\"\n",
    "- Nếu số đó chia hết cho cả 3 và 4 thì in \"python\"\n",
    "\n",
    "Ví dụ: n = 25\n",
    "1\n",
    "2\n",
    "py\n",
    "4\n",
    "5\n",
    "py\n",
    "thon\n",
    "8\n",
    "py\n",
    "10\n",
    "11\n",
    "py\n",
    "13\n",
    "thon\n",
    "py\n",
    "16\n",
    "17\n",
    "py\n",
    "19\n",
    "20\n",
    "python\n",
    "22\n",
    "23\n",
    "py\n",
    "25\n",
    "'''"
   ]
  },
  {
   "cell_type": "code",
   "execution_count": 8,
   "id": "a39d517d",
   "metadata": {},
   "outputs": [
    {
     "name": "stdout",
     "output_type": "stream",
     "text": [
      "nhap vao so nguyen n:25\n",
      "1\n",
      "2\n",
      "py\n",
      "4\n",
      "5\n",
      "py\n",
      "thon\n",
      "8\n",
      "py\n",
      "10\n",
      "11\n",
      "python\n",
      "13\n",
      "thon\n",
      "py\n",
      "16\n",
      "17\n",
      "py\n",
      "19\n",
      "20\n",
      "py\n",
      "22\n",
      "23\n",
      "python\n",
      "25\n"
     ]
    }
   ],
   "source": [
    "n=int(input(\"nhap vao so nguyen n:\"))\n",
    "count=1\n",
    "while count<=n:\n",
    "    if count%3==0:\n",
    "        if count%4==0:\n",
    "            print(\"python\")\n",
    "        else:\n",
    "            print(\"py\")\n",
    "    elif count%7==0:\n",
    "        print(\"thon\")\n",
    "    else:\n",
    "        print(count)\n",
    "    count+=1"
   ]
  },
  {
   "cell_type": "code",
   "execution_count": null,
   "id": "3689744c",
   "metadata": {},
   "outputs": [],
   "source": [
    "'''\n",
    "Bài 5: Viết chương trình nhập vào một số và kiểm tra xem số đó có phải là số nguyên tố hay không\n",
    "Note: Số nguyên tố là số chỉ chia hết cho 1 và chính nó\n",
    "'''"
   ]
  },
  {
   "cell_type": "code",
   "execution_count": 4,
   "id": "fd1d1215",
   "metadata": {},
   "outputs": [
    {
     "name": "stdout",
     "output_type": "stream",
     "text": [
      "nhap vao so nguyen:6\n",
      "6la so ko phai nguyen to\n"
     ]
    }
   ],
   "source": [
    "n=int(input(\"nhap vao so nguyen:\"))\n",
    "count=int(n/2)\n",
    "t=0\n",
    "while count>1:\n",
    "    if n%count==0:\n",
    "        t=1\n",
    "    count-=1\n",
    "if t==0:\n",
    "    print(f\"{n}la so nguyen to\")\n",
    "else:\n",
    "    print(f\"{n}la so ko phai nguyen to\")"
   ]
  },
  {
   "cell_type": "code",
   "execution_count": null,
   "id": "d76fa311",
   "metadata": {},
   "outputs": [],
   "source": [
    "'''\n",
    "Bài 6: Viết chương trình mô phỏng trò chơi kéo búa bao theo luật chơi như sau:\n",
    "Quy ước: 1 - búa, 2 - kéo, 3 - bao\n",
    "Khi trò chơi bắt đầu, yêu cầu người chơi nhập 1 số từ bàn phím đại diện cho kéo, búa, bao\n",
    "Chương trình tự random ra một lựa chọn từ 1 đến 3.\n",
    "Nếu người chơi thua thì tiếp tục chơi cho đến khi thắng thì kết thúc chương trình.\n",
    "Ví dụ:\n",
    "\n",
    "Mời lựa chọn(1 - búa, 2 - kéo, 3 - bao): 1\n",
    "Máy tính chọn: 3\n",
    "Người chơi thua.\n",
    "\n",
    "Mời lựa chọn(1 - búa, 2 - kéo, 3 - bao): 2\n",
    "Máy tính chọn: 1\n",
    "Người chơi thua.\n",
    "\n",
    "Mời lựa chọn(1 - búa, 2 - kéo, 3 - bao): 1\n",
    "Máy tính chọn: 2\n",
    "Người chơi thắng.\n",
    "'''"
   ]
  },
  {
   "cell_type": "code",
   "execution_count": 9,
   "id": "473982e7",
   "metadata": {},
   "outputs": [
    {
     "name": "stdout",
     "output_type": "stream",
     "text": [
      "Mời lựa chọn(1 - búa, 2 - kéo, 3 - bao)1\n",
      "Máy tính chọn :1\n",
      "Mời lựa chọn(1 - búa, 2 - kéo, 3 - bao)2\n",
      "Máy tính chọn :2\n",
      "Mời lựa chọn(1 - búa, 2 - kéo, 3 - bao)3\n",
      "Máy tính chọn :3\n",
      "Mời lựa chọn(1 - búa, 2 - kéo, 3 - bao)2\n",
      "Máy tính chọn :2\n",
      "Mời lựa chọn(1 - búa, 2 - kéo, 3 - bao)3\n",
      "Máy tính chọn :1\n",
      "Người chơi thắng\n"
     ]
    }
   ],
   "source": [
    "import random\n",
    "while True:\n",
    "    count=int(input(\"Mời lựa chọn(1 - búa, 2 - kéo, 3 - bao)\"))\n",
    "    n=random.randint(1,3)\n",
    "    print(f\"Máy tính chọn :{n}\")\n",
    "    if count==1:\n",
    "        if n==1:\n",
    "            continue\n",
    "        elif n==2:\n",
    "            print(\"Người chơi thắng\")\n",
    "            break\n",
    "        else:\n",
    "            print(\"Người chơi thua\")\n",
    "    elif count==2:\n",
    "        if n==1:\n",
    "            print(\"Người chơi thua\")\n",
    "        elif n==2:\n",
    "            continue\n",
    "        else:\n",
    "            print(\"Người chơi thắng\")\n",
    "            break\n",
    "    else:\n",
    "        if n==1:\n",
    "            print(\"Người chơi thắng\")\n",
    "            break\n",
    "        elif n==2:\n",
    "            print(\"Người chơi thua\")\n",
    "        else:\n",
    "            continue"
   ]
  }
 ],
 "metadata": {
  "kernelspec": {
   "display_name": "Python 3 (ipykernel)",
   "language": "python",
   "name": "python3"
  },
  "language_info": {
   "codemirror_mode": {
    "name": "ipython",
    "version": 3
   },
   "file_extension": ".py",
   "mimetype": "text/x-python",
   "name": "python",
   "nbconvert_exporter": "python",
   "pygments_lexer": "ipython3",
   "version": "3.10.5"
  }
 },
 "nbformat": 4,
 "nbformat_minor": 5
}
