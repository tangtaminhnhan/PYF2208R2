{
 "cells": [
  {
   "cell_type": "code",
   "execution_count": null,
   "id": "1b7705b3",
   "metadata": {},
   "outputs": [],
   "source": [
    "\"\"\"\n",
    "Viết class NhanVien gồm các thuộc tính:\n",
    "+ Tên\n",
    "+ Tuổi\n",
    "+ Địa chỉ\n",
    "+ Tiền lương\n",
    "+ Tổng số giờ làm\n",
    "\n",
    "Và các phương thức:\n",
    "- Phương thức tạo\n",
    "- input_info() : Nhập các thông tin cho nhân viên từ bàn phím\n",
    "- print_info() : In ra tất cả các thông tin của nhân viên\n",
    "- tinh_thuong(): Tính toán và trả về số tiền thưởng của nhân viên theo công thức sau:\n",
    "Nếu tổng số giờ làm của nhân viên >=200 thì thưởng = lương * 20%\n",
    "Nếu tổng số giờ làm của nhân viên <200 và >=100 thì thưởng = lương * 10%\n",
    "Nếu tổng số giờ làm của nhân viên <100 thì thưởng = 0\n",
    "\"\"\""
   ]
  },
  {
   "cell_type": "code",
   "execution_count": 10,
   "id": "3cf0f41d",
   "metadata": {},
   "outputs": [],
   "source": [
    "class NhanVien:\n",
    "    name = \"\"\n",
    "    age = \"\"\n",
    "    adress = \"\"\n",
    "    money = \"\"\n",
    "    time = \"\"\n",
    "    list_nhanvien = []\n",
    "    list_tienthuong = []\n",
    "    def __init__(self):\n",
    "        self.name = name\n",
    "        self.age = age\n",
    "        self.adress = adress\n",
    "        self.money = money\n",
    "        self.time = time\n",
    "    def input_info(self):\n",
    "        check = \"N\"\n",
    "        while check == \"N\":\n",
    "            self.name = input(\"Nhap ten:\")\n",
    "            self.age = int(input(\"nhap tuoi:\"))\n",
    "            self.adress = input(\"nhap vao dia chi:\")\n",
    "            self.money = float(input(\"Nhap vao tien luong:\"))\n",
    "            self.time = float(input(\"nhap vao thoi gian:\"))\n",
    "            list_nhanvien.append([self.name, self.age, self.adress, self.money, self.time])\n",
    "            check = input(\"tiep tuc/ dung lai(Y/N)\")\n",
    "    def print_info(self):\n",
    "        for i in range(len(list_nhanvien)):\n",
    "            print(f\"\\nNhan vien thu {i}\")\n",
    "            for j in range(5):\n",
    "                print(list_nhanvien[i][j], end = \"   \")\n",
    "            \n",
    "    def tinh_thuong(self):\n",
    "        for i in range(len(list_nhanvien)):\n",
    "            if list_nhanvien[i][4] >= 200:\n",
    "                list_tienthuong.append(list_nhanvien[i][3] * 0.2)\n",
    "            elif list_nhanvien[i][4] >= 100:\n",
    "                list_tienthuong.append(list_nhanvien[i][3] * 0.1)\n",
    "            else:\n",
    "                list_tienthuong.append(0)"
   ]
  },
  {
   "cell_type": "code",
   "execution_count": 9,
   "id": "d384b5a7",
   "metadata": {},
   "outputs": [
    {
     "name": "stdout",
     "output_type": "stream",
     "text": [
      "a\n",
      "nhan\n"
     ]
    }
   ],
   "source": [
    "print(\"a\\nnhan\")"
   ]
  }
 ],
 "metadata": {
  "kernelspec": {
   "display_name": "Python 3 (ipykernel)",
   "language": "python",
   "name": "python3"
  },
  "language_info": {
   "codemirror_mode": {
    "name": "ipython",
    "version": 3
   },
   "file_extension": ".py",
   "mimetype": "text/x-python",
   "name": "python",
   "nbconvert_exporter": "python",
   "pygments_lexer": "ipython3",
   "version": "3.10.5"
  }
 },
 "nbformat": 4,
 "nbformat_minor": 5
}
