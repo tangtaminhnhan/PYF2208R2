{
 "cells": [
  {
   "cell_type": "markdown",
   "id": "4c559a90",
   "metadata": {},
   "source": [
    "## pack\n",
    "\n",
    "Lệnh `pack()` sẽ giúp sắp xếp các đối tượng theo thứ tự nhất định"
   ]
  },
  {
   "cell_type": "code",
   "execution_count": null,
   "id": "d6af98e3",
   "metadata": {},
   "outputs": [],
   "source": []
  },
  {
   "cell_type": "markdown",
   "id": "0093b00d",
   "metadata": {},
   "source": [
    "## grid\n",
    "Lệnh `grid()` sẽ giúp sắp xếp các đối tượng theo một bảng"
   ]
  },
  {
   "cell_type": "code",
   "execution_count": null,
   "id": "d89cd306",
   "metadata": {},
   "outputs": [],
   "source": []
  },
  {
   "cell_type": "markdown",
   "id": "f0a05577",
   "metadata": {},
   "source": [
    "## place\n",
    "\n",
    "Lệnh `place()` sắp xếp các widget bằng cách đặt chúng vào một vị trí cụ thể trong widget chính."
   ]
  },
  {
   "cell_type": "code",
   "execution_count": null,
   "id": "070e6374",
   "metadata": {},
   "outputs": [],
   "source": []
  }
 ],
 "metadata": {
  "kernelspec": {
   "display_name": "Python 3 (ipykernel)",
   "language": "python",
   "name": "python3"
  },
  "language_info": {
   "codemirror_mode": {
    "name": "ipython",
    "version": 3
   },
   "file_extension": ".py",
   "mimetype": "text/x-python",
   "name": "python",
   "nbconvert_exporter": "python",
   "pygments_lexer": "ipython3",
   "version": "3.10.5"
  }
 },
 "nbformat": 4,
 "nbformat_minor": 5
}
