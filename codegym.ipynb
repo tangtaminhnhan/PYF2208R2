{
 "cells": [
  {
   "cell_type": "code",
   "execution_count": 2,
   "id": "39e86c3f",
   "metadata": {},
   "outputs": [
    {
     "name": "stdout",
     "output_type": "stream",
     "text": [
      "nhap vao so:3\n",
      "3 la so le\n"
     ]
    }
   ],
   "source": [
    "n = int(input(\"nhap vao so:\"))\n",
    "if n % 2 == 0:\n",
    "    print(f\"{n} la so chan\")\n",
    "else:\n",
    "    print(f\"{n} la so le\")"
   ]
  }
 ],
 "metadata": {
  "kernelspec": {
   "display_name": "Python 3 (ipykernel)",
   "language": "python",
   "name": "python3"
  },
  "language_info": {
   "codemirror_mode": {
    "name": "ipython",
    "version": 3
   },
   "file_extension": ".py",
   "mimetype": "text/x-python",
   "name": "python",
   "nbconvert_exporter": "python",
   "pygments_lexer": "ipython3",
   "version": "3.10.5"
  }
 },
 "nbformat": 4,
 "nbformat_minor": 5
}
